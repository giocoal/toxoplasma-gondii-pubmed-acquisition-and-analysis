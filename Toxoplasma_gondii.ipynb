{
 "cells": [
  {
   "cell_type": "markdown",
   "metadata": {},
   "source": [
    "# Setup"
   ]
  },
  {
   "cell_type": "code",
   "execution_count": 1,
   "metadata": {},
   "outputs": [],
   "source": [
    "from Bio import Entrez\n",
    "import pandas as pd\n",
    "import json # for pretty printing"
   ]
  },
  {
   "cell_type": "code",
   "execution_count": 2,
   "metadata": {},
   "outputs": [],
   "source": [
    "Entrez.email = \"g.carbone8@campus.unimib.it\""
   ]
  },
  {
   "attachments": {},
   "cell_type": "markdown",
   "metadata": {},
   "source": [
    "# PubMed Search"
   ]
  },
  {
   "attachments": {},
   "cell_type": "markdown",
   "metadata": {},
   "source": [
    "## Batch Serch Idea "
   ]
  },
  {
   "cell_type": "code",
   "execution_count": 55,
   "metadata": {},
   "outputs": [
    {
     "name": "stdout",
     "output_type": "stream",
     "text": [
      "0\n"
     ]
    },
    {
     "ename": "RuntimeError",
     "evalue": "Search Backend failed: Exception:\n'retstart' cannot be larger than 9998. For PubMed, ESearch can only retrieve the first 9,999 records matching the query. To obtain more than 9,999 PubMed records, consider using EDirect that contains additional logic to batch PubMed search results automatically so that an arbitrary number can be retrieved. For details see https://www.ncbi.nlm.nih.gov/books/NBK25499/",
     "output_type": "error",
     "traceback": [
      "\u001b[1;31m---------------------------------------------------------------------------\u001b[0m",
      "\u001b[1;31mRuntimeError\u001b[0m                              Traceback (most recent call last)",
      "Cell \u001b[1;32mIn[55], line 9\u001b[0m\n\u001b[0;32m      6\u001b[0m \u001b[39mwhile\u001b[39;00m (lenght_batch \u001b[39m!=\u001b[39m \u001b[39m0\u001b[39m):\n\u001b[0;32m      7\u001b[0m     handle \u001b[39m=\u001b[39m Entrez\u001b[39m.\u001b[39mesearch(db \u001b[39m=\u001b[39m \u001b[39m\"\u001b[39m\u001b[39mpubmed\u001b[39m\u001b[39m\"\u001b[39m, retmax \u001b[39m=\u001b[39m NUM_ARTICLES, retstart \u001b[39m=\u001b[39m ret_start, \n\u001b[0;32m      8\u001b[0m                             term \u001b[39m=\u001b[39m \u001b[39m'\u001b[39m\u001b[39m\"\u001b[39m\u001b[39mtoxoplasma+gondii\u001b[39m\u001b[39m\"\u001b[39m\u001b[39m[All]\u001b[39m\u001b[39m'\u001b[39m, idtype \u001b[39m=\u001b[39m \u001b[39m\"\u001b[39m\u001b[39macc\u001b[39m\u001b[39m\"\u001b[39m)\n\u001b[1;32m----> 9\u001b[0m     search_record[counter] \u001b[39m=\u001b[39m Entrez\u001b[39m.\u001b[39;49mread(handle)\n\u001b[0;32m     10\u001b[0m     \u001b[39mprint\u001b[39m(counter)\n\u001b[0;32m     11\u001b[0m     lenght_batch \u001b[39m=\u001b[39m \u001b[39mlen\u001b[39m(search_record[counter][\u001b[39m\"\u001b[39m\u001b[39mIdList\u001b[39m\u001b[39m\"\u001b[39m])\n",
      "File \u001b[1;32mc:\\Users\\Giorgio\\miniconda3\\envs\\data-bio-lab\\lib\\site-packages\\Bio\\Entrez\\__init__.py:503\u001b[0m, in \u001b[0;36mread\u001b[1;34m(handle, validate, escape, ignore_errors)\u001b[0m\n\u001b[0;32m    500\u001b[0m \u001b[39mfrom\u001b[39;00m \u001b[39m.\u001b[39;00m\u001b[39mParser\u001b[39;00m \u001b[39mimport\u001b[39;00m DataHandler\n\u001b[0;32m    502\u001b[0m handler \u001b[39m=\u001b[39m DataHandler(validate, escape, ignore_errors)\n\u001b[1;32m--> 503\u001b[0m record \u001b[39m=\u001b[39m handler\u001b[39m.\u001b[39;49mread(handle)\n\u001b[0;32m    504\u001b[0m \u001b[39mreturn\u001b[39;00m record\n",
      "File \u001b[1;32mc:\\Users\\Giorgio\\miniconda3\\envs\\data-bio-lab\\lib\\site-packages\\Bio\\Entrez\\Parser.py:392\u001b[0m, in \u001b[0;36mDataHandler.read\u001b[1;34m(self, handle)\u001b[0m\n\u001b[0;32m    390\u001b[0m     \u001b[39mraise\u001b[39;00m \u001b[39mTypeError\u001b[39;00m(\u001b[39m\"\u001b[39m\u001b[39mfile should be opened in binary mode\u001b[39m\u001b[39m\"\u001b[39m)\n\u001b[0;32m    391\u001b[0m \u001b[39mtry\u001b[39;00m:\n\u001b[1;32m--> 392\u001b[0m     \u001b[39mself\u001b[39;49m\u001b[39m.\u001b[39;49mparser\u001b[39m.\u001b[39;49mParseFile(handle)\n\u001b[0;32m    393\u001b[0m \u001b[39mexcept\u001b[39;00m expat\u001b[39m.\u001b[39mExpatError \u001b[39mas\u001b[39;00m e:\n\u001b[0;32m    394\u001b[0m     \u001b[39mif\u001b[39;00m \u001b[39mself\u001b[39m\u001b[39m.\u001b[39mparser\u001b[39m.\u001b[39mStartElementHandler:\n\u001b[0;32m    395\u001b[0m         \u001b[39m# We saw the initial <!xml declaration, so we can be sure that\u001b[39;00m\n\u001b[0;32m    396\u001b[0m         \u001b[39m# we are parsing XML data. Most likely, the XML file is\u001b[39;00m\n\u001b[0;32m    397\u001b[0m         \u001b[39m# corrupted.\u001b[39;00m\n",
      "File \u001b[1;32mc:\\b\\abs_c0vehw5clj\\croot\\python-split_1678271126763\\work\\modules\\pyexpat.c:461\u001b[0m, in \u001b[0;36mEndElement\u001b[1;34m()\u001b[0m\n",
      "File \u001b[1;32mc:\\Users\\Giorgio\\miniconda3\\envs\\data-bio-lab\\lib\\site-packages\\Bio\\Entrez\\Parser.py:790\u001b[0m, in \u001b[0;36mDataHandler.endErrorElementHandler\u001b[1;34m(self, tag)\u001b[0m\n\u001b[0;32m    788\u001b[0m     \u001b[39mreturn\u001b[39;00m\n\u001b[0;32m    789\u001b[0m \u001b[39mif\u001b[39;00m \u001b[39mself\u001b[39m\u001b[39m.\u001b[39mignore_errors \u001b[39mis\u001b[39;00m \u001b[39mFalse\u001b[39;00m:\n\u001b[1;32m--> 790\u001b[0m     \u001b[39mraise\u001b[39;00m \u001b[39mRuntimeError\u001b[39;00m(data)\n\u001b[0;32m    791\u001b[0m \u001b[39mself\u001b[39m\u001b[39m.\u001b[39mdata \u001b[39m=\u001b[39m []\n\u001b[0;32m    792\u001b[0m value \u001b[39m=\u001b[39m ErrorElement(data, tag)\n",
      "\u001b[1;31mRuntimeError\u001b[0m: Search Backend failed: Exception:\n'retstart' cannot be larger than 9998. For PubMed, ESearch can only retrieve the first 9,999 records matching the query. To obtain more than 9,999 PubMed records, consider using EDirect that contains additional logic to batch PubMed search results automatically so that an arbitrary number can be retrieved. For details see https://www.ncbi.nlm.nih.gov/books/NBK25499/"
     ]
    }
   ],
   "source": [
    "search_record = {}\n",
    "counter = 0\n",
    "NUM_ARTICLES = 9999\n",
    "ret_start = 0\n",
    "lenght_batch = 1\n",
    "while (lenght_batch != 0):\n",
    "    handle = Entrez.esearch(db = \"pubmed\", retmax = NUM_ARTICLES, retstart = ret_start, \n",
    "                            term = '\"toxoplasma+gondii\"[All]', idtype = \"acc\")\n",
    "    search_record[counter] = Entrez.read(handle)\n",
    "    print(counter)\n",
    "    lenght_batch = len(search_record[counter][\"IdList\"])\n",
    "    counter += 1\n",
    "    ret_start += NUM_ARTICLES\n",
    "    handle.close()"
   ]
  },
  {
   "attachments": {},
   "cell_type": "markdown",
   "metadata": {},
   "source": [
    "## Single Search Idea"
   ]
  },
  {
   "attachments": {},
   "cell_type": "markdown",
   "metadata": {},
   "source": [
    "For PubMed, ESearch can only retrieve the first 10,000 records matching the query. To obtain more than 10,000 PubMed records, consider using <EDirect> that contains additional logic to batch PubMed search results automatically so that an arbitrary number can be retrieved."
   ]
  },
  {
   "attachments": {},
   "cell_type": "markdown",
   "metadata": {},
   "source": [
    "Fetch *10 thousands* most recent articles in pubmed with title o abstract containing **toxoplasma gondii**"
   ]
  },
  {
   "cell_type": "code",
   "execution_count": 70,
   "metadata": {},
   "outputs": [],
   "source": [
    "NUM_ARTICLES = 10000\n",
    "handle = Entrez.esearch(db = \"pubmed\", \n",
    "                        retmax = NUM_ARTICLES, \n",
    "                        retstart = 0, \n",
    "                        term = '\"toxoplasma+gondii\"[Title/Abstract]', \n",
    "                        idtype = \"acc\",\n",
    "                        retmode = \"xml\")\n",
    "search_record = Entrez.read(handle)\n",
    "handle.close()"
   ]
  },
  {
   "cell_type": "code",
   "execution_count": 71,
   "metadata": {},
   "outputs": [
    {
     "name": "stdout",
     "output_type": "stream",
     "text": [
      "dict_keys(['Count', 'RetMax', 'RetStart', 'IdList', 'TranslationSet', 'QueryTranslation', 'WarningList'])\n",
      "\"toxoplasma+gondii\"[Title/Abstract]\n",
      "9999\n"
     ]
    }
   ],
   "source": [
    "print(search_record.keys())\n",
    "print(search_record[\"QueryTranslation\"])\n",
    "print(len(search_record[\"IdList\"]))"
   ]
  },
  {
   "attachments": {},
   "cell_type": "markdown",
   "metadata": {},
   "source": [
    "1. Fetch information about a single article \n",
    "2. start exploring the data structure"
   ]
  },
  {
   "cell_type": "code",
   "execution_count": 42,
   "metadata": {},
   "outputs": [
    {
     "name": "stdout",
     "output_type": "stream",
     "text": [
      "[\n",
      "  {\n",
      "    \"Item\": [],\n",
      "    \"Id\": \"36945434\",\n",
      "    \"PubDate\": \"2023 Mar 6\",\n",
      "    \"EPubDate\": \"2023 Mar 6\",\n",
      "    \"Source\": \"bioRxiv\",\n",
      "    \"AuthorList\": [\n",
      "      \"Giuliano CJ\",\n",
      "      \"Wei KJ\",\n",
      "      \"Harling FM\",\n",
      "      \"Waldman BS\",\n",
      "      \"Farringer MA\",\n",
      "      \"Boydston EA\",\n",
      "      \"Lan TCT\",\n",
      "      \"Thomas RW\",\n",
      "      \"Herneisen AL\",\n",
      "      \"Sanderlin AG\",\n",
      "      \"Coppens I\",\n",
      "      \"Dvorin JD\",\n",
      "      \"Lourido S\"\n",
      "    ],\n",
      "    \"LastAuthor\": \"Lourido S\",\n",
      "    \"Title\": \"Functional profiling of the Toxoplasma genome during acute mouse infection.\",\n",
      "    \"Volume\": \"\",\n",
      "    \"Issue\": \"\",\n",
      "    \"Pages\": \"\",\n",
      "    \"LangList\": [\n",
      "      \"English\"\n",
      "    ],\n",
      "    \"NlmUniqueID\": \"101680187\",\n",
      "    \"ISSN\": \"\",\n",
      "    \"ESSN\": \"\",\n",
      "    \"PubTypeList\": [],\n",
      "    \"RecordStatus\": \"PubMed - as supplied by publisher\",\n",
      "    \"PubStatus\": \"epublish\",\n",
      "    \"ArticleIds\": {\n",
      "      \"medline\": [],\n",
      "      \"pubmed\": [\n",
      "        \"36945434\"\n",
      "      ],\n",
      "      \"pmc\": \"PMC10028831\",\n",
      "      \"pmcid\": \"pmc-id: PMC10028831;\",\n",
      "      \"doi\": \"10.1101/2023.03.05.531216\",\n",
      "      \"pii\": \"2023.03.05.531216\"\n",
      "    },\n",
      "    \"DOI\": \"10.1101/2023.03.05.531216\",\n",
      "    \"History\": {\n",
      "      \"medline\": [\n",
      "        \"2023/03/23 06:00\"\n",
      "      ],\n",
      "      \"pubmed\": [\n",
      "        \"2023/03/23 06:00\"\n",
      "      ],\n",
      "      \"entrez\": \"2023/03/22 01:56\"\n",
      "    },\n",
      "    \"References\": [],\n",
      "    \"HasAbstract\": 1,\n",
      "    \"PmcRefCount\": 0,\n",
      "    \"FullJournalName\": \"bioRxiv : the preprint server for biology\",\n",
      "    \"ELocationID\": \"pii: 2023.03.05.531216. doi: 10.1101/2023.03.05.531216\",\n",
      "    \"SO\": \"2023 Mar 6;\"\n",
      "  }\n",
      "]\n"
     ]
    }
   ],
   "source": [
    "handle = Entrez.esummary(db = \"pubmed\", id = search_record[\"IdList\"][0])\n",
    "summary = Entrez.read(handle)\n",
    "handle.close()\n",
    "print(json.dumps(summary, indent = 2))"
   ]
  }
 ],
 "metadata": {
  "kernelspec": {
   "display_name": "data-bio-lab",
   "language": "python",
   "name": "python3"
  },
  "language_info": {
   "codemirror_mode": {
    "name": "ipython",
    "version": 3
   },
   "file_extension": ".py",
   "mimetype": "text/x-python",
   "name": "python",
   "nbconvert_exporter": "python",
   "pygments_lexer": "ipython3",
   "version": "3.9.16"
  },
  "orig_nbformat": 4
 },
 "nbformat": 4,
 "nbformat_minor": 2
}
