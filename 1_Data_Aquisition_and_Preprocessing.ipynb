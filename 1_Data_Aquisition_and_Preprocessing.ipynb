{
 "cells": [
  {
   "cell_type": "markdown",
   "metadata": {},
   "source": [
    "# Setup"
   ]
  },
  {
   "cell_type": "code",
   "execution_count": 1,
   "metadata": {},
   "outputs": [],
   "source": [
    "from Bio import Entrez\n",
    "import pandas as pd\n",
    "import json # for pretty printing"
   ]
  },
  {
   "cell_type": "code",
   "execution_count": 2,
   "metadata": {},
   "outputs": [],
   "source": [
    "Entrez.email = \"g.carbone8@campus.unimib.it\""
   ]
  },
  {
   "attachments": {},
   "cell_type": "markdown",
   "metadata": {},
   "source": [
    "# PubMed Articles IDs Search and Retrieval"
   ]
  },
  {
   "attachments": {},
   "cell_type": "markdown",
   "metadata": {},
   "source": [
    "## Batch Search Idea with for loop and 10000+ search entries (not working)"
   ]
  },
  {
   "cell_type": "code",
   "execution_count": null,
   "metadata": {},
   "outputs": [],
   "source": [
    "search_record = {}\n",
    "counter = 0\n",
    "NUM_ARTICLES = 9999\n",
    "ret_start = 0\n",
    "lenght_batch = 1\n",
    "while (lenght_batch != 0):\n",
    "    handle = Entrez.esearch(db = \"pubmed\", retmax = NUM_ARTICLES, retstart = ret_start, \n",
    "                            term = '\"toxoplasma+gondii\"[All]', idtype = \"acc\")\n",
    "    search_record[counter] = Entrez.read(handle)\n",
    "    print(counter)\n",
    "    lenght_batch = len(search_record[counter][\"IdList\"])\n",
    "    counter += 1\n",
    "    ret_start += NUM_ARTICLES\n",
    "    handle.close()"
   ]
  },
  {
   "attachments": {},
   "cell_type": "markdown",
   "metadata": {},
   "source": [
    "## Batch Articles IDs Search per Data Range"
   ]
  },
  {
   "attachments": {},
   "cell_type": "markdown",
   "metadata": {},
   "source": [
    "For PubMed, ESearch can only retrieve the first 10,000 records matching the query. To obtain more than 10,000 PubMed records, consider using <EDirect> that contains additional logic to batch PubMed search results automatically so that an arbitrary number can be retrieved.\n",
    "\n",
    "To avoid the maximum number of articles retrieved limitation, i decided to search them in batches of maximum 9999 articles, using a date range as limiter."
   ]
  },
  {
   "attachments": {},
   "cell_type": "markdown",
   "metadata": {},
   "source": [
    "Fetching the most recent 9934 articles published from **2009** to **2023**:"
   ]
  },
  {
   "cell_type": "code",
   "execution_count": 13,
   "metadata": {},
   "outputs": [],
   "source": [
    "NUM_ARTICLES = 10000\n",
    "search_record = {}\n",
    "handle = Entrez.esearch(db = \"pubmed\", \n",
    "                        retmax = NUM_ARTICLES, \n",
    "                        retstart = 0, \n",
    "                        term = '((\"toxoplasma gondii\"[Title/Abstract]) AND (\"2009/01/01\"[Date - Publication] : \"2023/03/22\"[Date - Publication]))', \n",
    "                        idtype = \"acc\",\n",
    "                        retmode = \"xml\")\n",
    "search_record[\">2009\"] = Entrez.read(handle)\n",
    "handle.close()"
   ]
  },
  {
   "cell_type": "code",
   "execution_count": 18,
   "metadata": {},
   "outputs": [
    {
     "name": "stdout",
     "output_type": "stream",
     "text": [
      "dict_keys(['Count', 'RetMax', 'RetStart', 'IdList', 'TranslationSet', 'QueryTranslation', 'WarningList'])\n",
      "\"toxoplasma gondii\"[Title/Abstract] AND 2009/01/01:2023/03/22[Date - Publication]\n",
      "9934\n"
     ]
    }
   ],
   "source": [
    "print(search_record[\">2009\"].keys())\n",
    "print(search_record[\">2009\"][\"QueryTranslation\"])\n",
    "print(len(search_record[\">2009\"][\"IdList\"]))"
   ]
  },
  {
   "attachments": {},
   "cell_type": "markdown",
   "metadata": {},
   "source": [
    "Fetching older 7770 articles published **before 2009**:"
   ]
  },
  {
   "cell_type": "code",
   "execution_count": 16,
   "metadata": {},
   "outputs": [],
   "source": [
    "NUM_ARTICLES = 10000\n",
    "handle = Entrez.esearch(db = \"pubmed\", \n",
    "                        retmax = NUM_ARTICLES, \n",
    "                        retstart = 0, \n",
    "                        term = '((\"toxoplasma gondii\"[Title/Abstract]) AND (\"1900/01/01\"[Date - Publication] : \"2008/12/31\"[Date - Publication]))', \n",
    "                        idtype = \"acc\",\n",
    "                        retmode = \"xml\")\n",
    "search_record[\"<2009\"] = Entrez.read(handle)\n",
    "handle.close()"
   ]
  },
  {
   "cell_type": "code",
   "execution_count": 24,
   "metadata": {},
   "outputs": [
    {
     "name": "stdout",
     "output_type": "stream",
     "text": [
      "dict_keys(['Count', 'RetMax', 'RetStart', 'IdList', 'TranslationSet', 'QueryTranslation', 'WarningList'])\n",
      "{'QuotedPhraseNotFound': [], 'OutputMessage': ['Restrictions achieved. start and count adjusted to 0, 9999'], 'PhraseIgnored': []}\n",
      "7770\n"
     ]
    }
   ],
   "source": [
    "print(search_record[\"<2009\"].keys())\n",
    "print(search_record[\"<2009\"][\"WarningList\"])\n",
    "print(len(search_record[\"<2009\"][\"IdList\"]))"
   ]
  },
  {
   "attachments": {},
   "cell_type": "markdown",
   "metadata": {},
   "source": [
    "## Merging the batches and Remove Duplicates"
   ]
  },
  {
   "attachments": {},
   "cell_type": "markdown",
   "metadata": {},
   "source": [
    "Now I'll merge the IDs Batches obtaining a single list of 10000+ IDs."
   ]
  },
  {
   "cell_type": "code",
   "execution_count": 26,
   "metadata": {},
   "outputs": [],
   "source": [
    "search_record_full = list(search_record[\">2009\"][\"IdList\"]) + list(search_record[\"<2009\"][\"IdList\"])"
   ]
  },
  {
   "attachments": {},
   "cell_type": "markdown",
   "metadata": {},
   "source": [
    "Number of articles to fetch"
   ]
  },
  {
   "cell_type": "code",
   "execution_count": null,
   "metadata": {},
   "outputs": [],
   "source": [
    "# Number of articles\n",
    "print(len(search_record_full))\n",
    "# Number of unique articles\n",
    "print(len(set(search_record_full)))"
   ]
  },
  {
   "attachments": {},
   "cell_type": "markdown",
   "metadata": {},
   "source": [
    "Removing the duplicates"
   ]
  },
  {
   "cell_type": "code",
   "execution_count": 44,
   "metadata": {},
   "outputs": [],
   "source": [
    "search_record_full = list(set(search_record_full))"
   ]
  },
  {
   "attachments": {},
   "cell_type": "markdown",
   "metadata": {},
   "source": [
    "# Fetch Bibliographic Information from retrieved IDs"
   ]
  },
  {
   "attachments": {},
   "cell_type": "markdown",
   "metadata": {},
   "source": [
    "Also `Entrez.efetch` has a maximum number of 'IDs' which can be retrieved, it is important to slice the list of IDs during fetching."
   ]
  },
  {
   "attachments": {},
   "cell_type": "markdown",
   "metadata": {},
   "source": [
    "Fetch detailed information about every article in the list"
   ]
  },
  {
   "cell_type": "code",
   "execution_count": 45,
   "metadata": {},
   "outputs": [],
   "source": [
    "# Retrieve only `top_n` most recent articles\n",
    "records = {}\n",
    "half = len(search_record_full) // 2\n",
    "handle = Entrez.efetch(db = \"pubmed\", \n",
    "                       # Convert list to string with comma as separator \n",
    "                       # to pass to Entrez.efetch\n",
    "                       id = ','.join(search_record_full[:half]),\n",
    "                       retmode = \"xml\")\n",
    "records['1stHalf'] = Entrez.read(handle)\n",
    "handle.close()\n",
    "handle = Entrez.efetch(db = \"pubmed\", \n",
    "                       # Convert list to string with comma as separator \n",
    "                       # to pass to Entrez.efetch\n",
    "                       id = ','.join(search_record_full[half:]),\n",
    "                       retmode = \"xml\")\n",
    "records['2ndHalf'] = Entrez.read(handle)\n",
    "handle.close()"
   ]
  },
  {
   "attachments": {},
   "cell_type": "markdown",
   "metadata": {},
   "source": [
    "Record dictionary details:"
   ]
  },
  {
   "cell_type": "code",
   "execution_count": 49,
   "metadata": {},
   "outputs": [
    {
     "name": "stdout",
     "output_type": "stream",
     "text": [
      "dict_keys(['PubmedArticle', 'PubmedBookArticle'])\n",
      "8814\n",
      "<class 'list'>\n",
      "<class 'Bio.Entrez.Parser.DictionaryElement'>\n",
      "8815\n",
      "<class 'list'>\n",
      "<class 'Bio.Entrez.Parser.DictionaryElement'>\n"
     ]
    }
   ],
   "source": [
    "# First Half\n",
    "print(records['1stHalf'].keys())\n",
    "\n",
    "print(len(records['1stHalf'][\"PubmedArticle\"]))\n",
    "print(type(records['1stHalf'][\"PubmedArticle\"]))\n",
    "print(type(records['1stHalf'][\"PubmedArticle\"][1]))\n",
    "\n",
    "# Second Half\n",
    "print(len(records['2ndHalf'][\"PubmedArticle\"]))\n",
    "print(type(records['2ndHalf'][\"PubmedArticle\"]))\n",
    "print(type(records['2ndHalf'][\"PubmedArticle\"][1]))"
   ]
  },
  {
   "attachments": {},
   "cell_type": "markdown",
   "metadata": {},
   "source": [
    "Merging the two records dictionaries in a single one:"
   ]
  },
  {
   "cell_type": "code",
   "execution_count": 51,
   "metadata": {},
   "outputs": [],
   "source": [
    "full_records = {}\n",
    "full_records['PubmedArticle'] = records['1stHalf'][\"PubmedArticle\"] + records['2ndHalf'][\"PubmedArticle\"]\n",
    "full_records['PubmedBookArticle'] = records['1stHalf'][\"PubmedBookArticle\"] + records['2ndHalf'][\"PubmedBookArticle\"]"
   ]
  },
  {
   "cell_type": "code",
   "execution_count": 52,
   "metadata": {},
   "outputs": [
    {
     "name": "stdout",
     "output_type": "stream",
     "text": [
      "17629\n",
      "<class 'list'>\n",
      "<class 'Bio.Entrez.Parser.DictionaryElement'>\n"
     ]
    }
   ],
   "source": [
    "print(len(full_records[\"PubmedArticle\"]))\n",
    "print(type(full_records[\"PubmedArticle\"]))\n",
    "print(type(full_records[\"PubmedArticle\"][1]))"
   ]
  },
  {
   "cell_type": "code",
   "execution_count": 53,
   "metadata": {},
   "outputs": [
    {
     "name": "stdout",
     "output_type": "stream",
     "text": [
      "{\n",
      "  \"MedlineCitation\": {\n",
      "    \"OtherID\": [],\n",
      "    \"OtherAbstract\": [],\n",
      "    \"KeywordList\": [],\n",
      "    \"GeneralNote\": [],\n",
      "    \"CitationSubset\": [\n",
      "      \"IM\"\n",
      "    ],\n",
      "    \"SpaceFlightMission\": [],\n",
      "    \"PMID\": \"12197139\",\n",
      "    \"DateCompleted\": {\n",
      "      \"Year\": \"2002\",\n",
      "      \"Month\": \"09\",\n",
      "      \"Day\": \"17\"\n",
      "    },\n",
      "    \"DateRevised\": {\n",
      "      \"Year\": \"2006\",\n",
      "      \"Month\": \"11\",\n",
      "      \"Day\": \"15\"\n",
      "    },\n",
      "    \"Article\": {\n",
      "      \"ArticleDate\": [],\n",
      "      \"ELocationID\": [],\n",
      "      \"Language\": [\n",
      "        \"eng\"\n",
      "      ],\n",
      "      \"Journal\": {\n",
      "        \"ISSN\": \"0022-3395\",\n",
      "        \"JournalIssue\": {\n",
      "          \"Volume\": \"88\",\n",
      "          \"Issue\": \"4\",\n",
      "          \"PubDate\": {\n",
      "            \"Year\": \"2002\",\n",
      "            \"Month\": \"Aug\"\n",
      "          }\n",
      "        },\n",
      "        \"Title\": \"The Journal of parasitology\",\n",
      "        \"ISOAbbreviation\": \"J Parasitol\"\n",
      "      },\n",
      "      \"ArticleTitle\": \"Development and evaluation of an enzyme-linked immunosorbent assay with recombinant SAG2 for diagnosis of Toxoplasma gondii infection in cats.\",\n",
      "      \"Pagination\": {\n",
      "        \"StartPage\": \"804\",\n",
      "        \"EndPage\": \"807\",\n",
      "        \"MedlinePgn\": \"804-7\"\n",
      "      },\n",
      "      \"Abstract\": {\n",
      "        \"AbstractText\": [\n",
      "          \"Cats are pivotal in the transmission of Toxoplasma gondii. To develop a sensitive and specific serodiagnostic method for feline toxoplasmosis, surface antigen 2 (SAG2) of T. gondii was expressed in Escherichia coli and its diagnostic potential evaluated in an enzyme-linked immunosorbent assay (ELISA). The ELISA with recombinant SAG2 (rSAG2) was able to differentiate very clearly between sera from cats experimentally infected with T. gondii and sera from normal cats. Serum samples collected from domestic cats in Japan were investigated by the ELISA, and the results were compared with those of a commercially available latex agglutination test (LAT) kit. Of the 192 samples screened, 42 (21.9%) were positive by ELISA. Among the 42 ELISA-positive samples, 39 were positive by LAT. There was a significant correlation between ELISA and LAT titers. All the 150 ELISA-negative samples were negative by LAT. These results indicate that the ELISA with rSAG2 expressed in E. coli should be a useful method for detection of T. gondii infection in cats.\"\n",
      "        ]\n",
      "      },\n",
      "      \"AuthorList\": [\n",
      "        {\n",
      "          \"AffiliationInfo\": [\n",
      "            {\n",
      "              \"Identifier\": [],\n",
      "              \"Affiliation\": \"National Research Center for Protozoan Diseases, Obihiro University of Agriculture and Veterinary Medicine, Inada-cho, Obihiro, Hokkaido 080-8555, Japan.\"\n",
      "            }\n",
      "          ],\n",
      "          \"Identifier\": [],\n",
      "          \"LastName\": \"Huang\",\n",
      "          \"ForeName\": \"X\",\n",
      "          \"Initials\": \"X\"\n",
      "        },\n",
      "        {\n",
      "          \"AffiliationInfo\": [],\n",
      "          \"Identifier\": [],\n",
      "          \"LastName\": \"Xuan\",\n",
      "          \"ForeName\": \"X\",\n",
      "          \"Initials\": \"X\"\n",
      "        },\n",
      "        {\n",
      "          \"AffiliationInfo\": [],\n",
      "          \"Identifier\": [],\n",
      "          \"LastName\": \"Kimbita\",\n",
      "          \"ForeName\": \"E N\",\n",
      "          \"Initials\": \"EN\"\n",
      "        },\n",
      "        {\n",
      "          \"AffiliationInfo\": [],\n",
      "          \"Identifier\": [],\n",
      "          \"LastName\": \"Battur\",\n",
      "          \"ForeName\": \"B\",\n",
      "          \"Initials\": \"B\"\n",
      "        },\n",
      "        {\n",
      "          \"AffiliationInfo\": [],\n",
      "          \"Identifier\": [],\n",
      "          \"LastName\": \"Miyazawa\",\n",
      "          \"ForeName\": \"T\",\n",
      "          \"Initials\": \"T\"\n",
      "        },\n",
      "        {\n",
      "          \"AffiliationInfo\": [],\n",
      "          \"Identifier\": [],\n",
      "          \"LastName\": \"Fukumoto\",\n",
      "          \"ForeName\": \"S\",\n",
      "          \"Initials\": \"S\"\n",
      "        },\n",
      "        {\n",
      "          \"AffiliationInfo\": [],\n",
      "          \"Identifier\": [],\n",
      "          \"LastName\": \"Mishima\",\n",
      "          \"ForeName\": \"M\",\n",
      "          \"Initials\": \"M\"\n",
      "        },\n",
      "        {\n",
      "          \"AffiliationInfo\": [],\n",
      "          \"Identifier\": [],\n",
      "          \"LastName\": \"Makala\",\n",
      "          \"ForeName\": \"L H\",\n",
      "          \"Initials\": \"LH\"\n",
      "        },\n",
      "        {\n",
      "          \"AffiliationInfo\": [],\n",
      "          \"Identifier\": [],\n",
      "          \"LastName\": \"Suzuki\",\n",
      "          \"ForeName\": \"H\",\n",
      "          \"Initials\": \"H\"\n",
      "        },\n",
      "        {\n",
      "          \"AffiliationInfo\": [],\n",
      "          \"Identifier\": [],\n",
      "          \"LastName\": \"Sugimoto\",\n",
      "          \"ForeName\": \"C\",\n",
      "          \"Initials\": \"C\"\n",
      "        },\n",
      "        {\n",
      "          \"AffiliationInfo\": [],\n",
      "          \"Identifier\": [],\n",
      "          \"LastName\": \"Nagasawa\",\n",
      "          \"ForeName\": \"H\",\n",
      "          \"Initials\": \"H\"\n",
      "        },\n",
      "        {\n",
      "          \"AffiliationInfo\": [],\n",
      "          \"Identifier\": [],\n",
      "          \"LastName\": \"Fujisaki\",\n",
      "          \"ForeName\": \"K\",\n",
      "          \"Initials\": \"K\"\n",
      "        },\n",
      "        {\n",
      "          \"AffiliationInfo\": [],\n",
      "          \"Identifier\": [],\n",
      "          \"LastName\": \"Mikami\",\n",
      "          \"ForeName\": \"T\",\n",
      "          \"Initials\": \"T\"\n",
      "        },\n",
      "        {\n",
      "          \"AffiliationInfo\": [],\n",
      "          \"Identifier\": [],\n",
      "          \"LastName\": \"Igarashi\",\n",
      "          \"ForeName\": \"I\",\n",
      "          \"Initials\": \"I\"\n",
      "        }\n",
      "      ],\n",
      "      \"PublicationTypeList\": [\n",
      "        \"Comparative Study\",\n",
      "        \"Journal Article\",\n",
      "        \"Research Support, Non-U.S. Gov't\"\n",
      "      ]\n",
      "    },\n",
      "    \"MedlineJournalInfo\": {\n",
      "      \"Country\": \"United States\",\n",
      "      \"MedlineTA\": \"J Parasitol\",\n",
      "      \"NlmUniqueID\": \"7803124\",\n",
      "      \"ISSNLinking\": \"0022-3395\"\n",
      "    },\n",
      "    \"ChemicalList\": [\n",
      "      {\n",
      "        \"RegistryNumber\": \"0\",\n",
      "        \"NameOfSubstance\": \"Antibodies, Protozoan\"\n",
      "      },\n",
      "      {\n",
      "        \"RegistryNumber\": \"0\",\n",
      "        \"NameOfSubstance\": \"Antigens, Protozoan\"\n",
      "      },\n",
      "      {\n",
      "        \"RegistryNumber\": \"0\",\n",
      "        \"NameOfSubstance\": \"Antigens, Surface\"\n",
      "      },\n",
      "      {\n",
      "        \"RegistryNumber\": \"0\",\n",
      "        \"NameOfSubstance\": \"Protozoan Proteins\"\n",
      "      },\n",
      "      {\n",
      "        \"RegistryNumber\": \"0\",\n",
      "        \"NameOfSubstance\": \"Recombinant Proteins\"\n",
      "      },\n",
      "      {\n",
      "        \"RegistryNumber\": \"133134-61-9\",\n",
      "        \"NameOfSubstance\": \"surface antigen P22, Toxoplasma\"\n",
      "      }\n",
      "    ],\n",
      "    \"MeshHeadingList\": [\n",
      "      {\n",
      "        \"QualifierName\": [],\n",
      "        \"DescriptorName\": \"Animals\"\n",
      "      },\n",
      "      {\n",
      "        \"QualifierName\": [\n",
      "          \"blood\"\n",
      "        ],\n",
      "        \"DescriptorName\": \"Antibodies, Protozoan\"\n",
      "      },\n",
      "      {\n",
      "        \"QualifierName\": [],\n",
      "        \"DescriptorName\": \"Antigens, Protozoan\"\n",
      "      },\n",
      "      {\n",
      "        \"QualifierName\": [],\n",
      "        \"DescriptorName\": \"Antigens, Surface\"\n",
      "      },\n",
      "      {\n",
      "        \"QualifierName\": [\n",
      "          \"diagnosis\"\n",
      "        ],\n",
      "        \"DescriptorName\": \"Cat Diseases\"\n",
      "      },\n",
      "      {\n",
      "        \"QualifierName\": [],\n",
      "        \"DescriptorName\": \"Cats\"\n",
      "      },\n",
      "      {\n",
      "        \"QualifierName\": [\n",
      "          \"methods\"\n",
      "        ],\n",
      "        \"DescriptorName\": \"Enzyme-Linked Immunosorbent Assay\"\n",
      "      },\n",
      "      {\n",
      "        \"QualifierName\": [\n",
      "          \"genetics\"\n",
      "        ],\n",
      "        \"DescriptorName\": \"Escherichia coli\"\n",
      "      },\n",
      "      {\n",
      "        \"QualifierName\": [],\n",
      "        \"DescriptorName\": \"Genetic Vectors\"\n",
      "      },\n",
      "      {\n",
      "        \"QualifierName\": [],\n",
      "        \"DescriptorName\": \"Protozoan Proteins\"\n",
      "      },\n",
      "      {\n",
      "        \"QualifierName\": [],\n",
      "        \"DescriptorName\": \"Recombinant Proteins\"\n",
      "      },\n",
      "      {\n",
      "        \"QualifierName\": [\n",
      "          \"immunology\",\n",
      "          \"isolation & purification\"\n",
      "        ],\n",
      "        \"DescriptorName\": \"Toxoplasma\"\n",
      "      },\n",
      "      {\n",
      "        \"QualifierName\": [\n",
      "          \"blood\",\n",
      "          \"diagnosis\"\n",
      "        ],\n",
      "        \"DescriptorName\": \"Toxoplasmosis, Animal\"\n",
      "      }\n",
      "    ]\n",
      "  },\n",
      "  \"PubmedData\": {\n",
      "    \"ReferenceList\": [],\n",
      "    \"History\": [\n",
      "      {\n",
      "        \"Year\": \"2002\",\n",
      "        \"Month\": \"8\",\n",
      "        \"Day\": \"29\",\n",
      "        \"Hour\": \"10\",\n",
      "        \"Minute\": \"0\"\n",
      "      },\n",
      "      {\n",
      "        \"Year\": \"2002\",\n",
      "        \"Month\": \"9\",\n",
      "        \"Day\": \"18\",\n",
      "        \"Hour\": \"10\",\n",
      "        \"Minute\": \"1\"\n",
      "      },\n",
      "      {\n",
      "        \"Year\": \"2002\",\n",
      "        \"Month\": \"8\",\n",
      "        \"Day\": \"29\",\n",
      "        \"Hour\": \"10\",\n",
      "        \"Minute\": \"0\"\n",
      "      }\n",
      "    ],\n",
      "    \"PublicationStatus\": \"ppublish\",\n",
      "    \"ArticleIdList\": [\n",
      "      \"12197139\",\n",
      "      \"10.1645/0022-3395(2002)088[0804:DAEOAE]2.0.CO;2\"\n",
      "    ]\n",
      "  }\n",
      "}\n"
     ]
    }
   ],
   "source": [
    "print(json.dumps(full_records['PubmedArticle'][1], indent = 2))"
   ]
  },
  {
   "attachments": {},
   "cell_type": "markdown",
   "metadata": {},
   "source": [
    "# Parsing retrieved articles and build a dataframe"
   ]
  },
  {
   "attachments": {},
   "cell_type": "markdown",
   "metadata": {},
   "source": [
    "## JSON Parsing"
   ]
  },
  {
   "attachments": {},
   "cell_type": "markdown",
   "metadata": {},
   "source": [
    "We create multiple dataframes containing information about:\n",
    "-  Retrieved Article\n",
    "-  ~~Journal that published the articles~~"
   ]
  },
  {
   "attachments": {},
   "cell_type": "markdown",
   "metadata": {},
   "source": [
    "First of all we'll extract some basic information about the retrieved articles:\n",
    "- PubMed ID\n",
    "- Title\n",
    "- Abstract Text\n",
    "- Dates\n",
    "  - Completed Date\n",
    "  - Revised Date\n",
    "  - Published Year\n",
    "- Language\n",
    "- Authors List\n",
    "- PublicationTypeList\n",
    "- Journal Country"
   ]
  },
  {
   "cell_type": "code",
   "execution_count": null,
   "metadata": {},
   "outputs": [],
   "source": [
    "# Create empty dictionary to store pubmed_id its info\n",
    "id_article = {}\n",
    "counter = 0\n",
    "for record in full_records['PubmedArticle']:\n",
    "    print(counter)\n",
    "    counter += 1\n",
    "    # Root element to access all data about a given article\n",
    "    root = record['MedlineCitation']['Article']\n",
    "    # Get pubmed id to be used for dictionary key access\n",
    "    uid = record['MedlineCitation']['PMID']\n",
    "    print(uid)\n",
    "    # Create empty dictionary for each given article id\n",
    "    id_article[uid] = {}\n",
    "    # Title\n",
    "    try:\n",
    "        id_article[uid]['Title'] = root['ArticleTitle']\n",
    "    except:\n",
    "        id_article[uid]['Title'] = None\n",
    "    # Country\n",
    "    try:\n",
    "        id_article[uid]['Journal Country'] = record['MedlineCitation']['MedlineJournalInfo']['Country']\n",
    "    except:\n",
    "        id_article[uid]['Journal Country'] = None\n",
    "    # Abstract text different sections like results, conclusions, \n",
    "    # that are in separate elements of the list are joined together\n",
    "    try:\n",
    "        id_article[uid]['Abstract'] = \"\\t\".join(root['Abstract']['AbstractText']) if 'Abstract' in root.keys() else None\n",
    "    except:\n",
    "        id_article[uid]['Abstract'] = None\n",
    "    # Date (submission?) as MM/DD/YYYY\n",
    "    try: \n",
    "        id_article[uid]['ArticleDate'] = \"/\".join(root['ArticleDate'][0].values()) if len(root['ArticleDate']) != 0 else None \n",
    "    except:\n",
    "        id_article[uid]['ArticleDate'] = None\n",
    "    # Completed date as MM/DD/YYYY\n",
    "    try: \n",
    "        id_article[uid]['CompletedDate'] = \"/\".join(record['MedlineCitation']['DateCompleted'].values()) if len(record['MedlineCitation']['DateCompleted']) != 0 else None\n",
    "    except:\n",
    "        id_article[uid]['CompletedDate'] = None\n",
    "    # Revised date as MM/DD/YYYY\n",
    "    try:\n",
    "        id_article[uid]['RevisedDate'] = \"/\".join(record['MedlineCitation']['DateRevised'].values()) if len(record['MedlineCitation']['DateRevised']) != 0 else None\n",
    "    except:\n",
    "        id_article[uid]['RevisedDate'] = None\n",
    "    # Publication year\n",
    "    try:\n",
    "        id_article[uid]['PublicationYear'] = record['MedlineCitation']['Article']['Journal']['JournalIssue']['PubDate'][\"Year\"]\n",
    "    except:\n",
    "        id_article[uid]['PublicationYear'] = None\n",
    "    # Language(s)\n",
    "    try:\n",
    "        id_article[uid]['Language'] = \" | \".join(root['Language'])\n",
    "    except:\n",
    "        id_article[uid]['Language'] = None\n",
    "    # Authors list\n",
    "    try:\n",
    "        id_article[uid][\"AuthorList\"] = \" | \".join([i['LastName'] + \", \" + i['Initials']\\\n",
    "                                                for i in root['AuthorList'] if 'LastName' and 'Initials' in i.keys()]) if 'AuthorList' in root.keys() else None\n",
    "    except:\n",
    "        id_article[uid][\"AuthorList\"] = None\n",
    "    # List of publication types\n",
    "    try: \n",
    "        id_article[uid]['PublicationTypeList'] = \" | \".join(root['PublicationTypeList'])\n",
    "    except:\n",
    "        id_article[uid]['PublicationTypeList'] = None\n",
    "        "
   ]
  },
  {
   "attachments": {},
   "cell_type": "markdown",
   "metadata": {},
   "source": [
    "Example of the parsed data:"
   ]
  },
  {
   "cell_type": "code",
   "execution_count": 63,
   "metadata": {},
   "outputs": [
    {
     "name": "stdout",
     "output_type": "stream",
     "text": [
      "{\n",
      "  \"Title\": \"Development and evaluation of an enzyme-linked immunosorbent assay with recombinant SAG2 for diagnosis of Toxoplasma gondii infection in cats.\",\n",
      "  \"Journal Country\": \"United States\",\n",
      "  \"Abstract\": \"Cats are pivotal in the transmission of Toxoplasma gondii. To develop a sensitive and specific serodiagnostic method for feline toxoplasmosis, surface antigen 2 (SAG2) of T. gondii was expressed in Escherichia coli and its diagnostic potential evaluated in an enzyme-linked immunosorbent assay (ELISA). The ELISA with recombinant SAG2 (rSAG2) was able to differentiate very clearly between sera from cats experimentally infected with T. gondii and sera from normal cats. Serum samples collected from domestic cats in Japan were investigated by the ELISA, and the results were compared with those of a commercially available latex agglutination test (LAT) kit. Of the 192 samples screened, 42 (21.9%) were positive by ELISA. Among the 42 ELISA-positive samples, 39 were positive by LAT. There was a significant correlation between ELISA and LAT titers. All the 150 ELISA-negative samples were negative by LAT. These results indicate that the ELISA with rSAG2 expressed in E. coli should be a useful method for detection of T. gondii infection in cats.\",\n",
      "  \"ArticleDate\": null,\n",
      "  \"CompletedDate\": \"2002/09/17\",\n",
      "  \"RevisedDate\": \"2006/11/15\",\n",
      "  \"PublicationYear\": \"2002\",\n",
      "  \"Language\": \"eng\",\n",
      "  \"AuthorList\": \"Huang, X | Xuan, X | Kimbita, EN | Battur, B | Miyazawa, T | Fukumoto, S | Mishima, M | Makala, LH | Suzuki, H | Sugimoto, C | Nagasawa, H | Fujisaki, K | Mikami, T | Igarashi, I\",\n",
      "  \"PublicationTypeList\": \"Comparative Study | Journal Article | Research Support, Non-U.S. Gov't\"\n",
      "}\n"
     ]
    }
   ],
   "source": [
    "print(json.dumps(id_article[\"12197139\"], indent = 2))"
   ]
  },
  {
   "attachments": {},
   "cell_type": "markdown",
   "metadata": {},
   "source": [
    "Create the dataframe"
   ]
  },
  {
   "cell_type": "code",
   "execution_count": 64,
   "metadata": {},
   "outputs": [
    {
     "data": {
      "text/html": [
       "<div>\n",
       "<style scoped>\n",
       "    .dataframe tbody tr th:only-of-type {\n",
       "        vertical-align: middle;\n",
       "    }\n",
       "\n",
       "    .dataframe tbody tr th {\n",
       "        vertical-align: top;\n",
       "    }\n",
       "\n",
       "    .dataframe thead th {\n",
       "        text-align: right;\n",
       "    }\n",
       "</style>\n",
       "<table border=\"1\" class=\"dataframe\">\n",
       "  <thead>\n",
       "    <tr style=\"text-align: right;\">\n",
       "      <th></th>\n",
       "      <th>Title</th>\n",
       "      <th>Journal Country</th>\n",
       "      <th>Abstract</th>\n",
       "      <th>ArticleDate</th>\n",
       "      <th>CompletedDate</th>\n",
       "      <th>RevisedDate</th>\n",
       "      <th>PublicationYear</th>\n",
       "      <th>Language</th>\n",
       "      <th>AuthorList</th>\n",
       "      <th>PublicationTypeList</th>\n",
       "    </tr>\n",
       "  </thead>\n",
       "  <tbody>\n",
       "    <tr>\n",
       "      <th>22946380</th>\n",
       "      <td>Granulomatous meningoencephalitis due to toxop...</td>\n",
       "      <td>United States</td>\n",
       "      <td>This report describes toxoplasmosis infection ...</td>\n",
       "      <td>None</td>\n",
       "      <td>2012/09/25</td>\n",
       "      <td>2012/09/05</td>\n",
       "      <td>2011</td>\n",
       "      <td>eng</td>\n",
       "      <td>Antoniassi, NA | Boabaid, FM | Souza, RL | Nak...</td>\n",
       "      <td>Case Reports | Journal Article</td>\n",
       "    </tr>\n",
       "    <tr>\n",
       "      <th>12197139</th>\n",
       "      <td>Development and evaluation of an enzyme-linked...</td>\n",
       "      <td>United States</td>\n",
       "      <td>Cats are pivotal in the transmission of Toxopl...</td>\n",
       "      <td>None</td>\n",
       "      <td>2002/09/17</td>\n",
       "      <td>2006/11/15</td>\n",
       "      <td>2002</td>\n",
       "      <td>eng</td>\n",
       "      <td>Huang, X | Xuan, X | Kimbita, EN | Battur, B |...</td>\n",
       "      <td>Comparative Study | Journal Article | Research...</td>\n",
       "    </tr>\n",
       "    <tr>\n",
       "      <th>19578625</th>\n",
       "      <td>Neurotoxoplasmosis diagnosis for HIV-1 patient...</td>\n",
       "      <td>Brazil</td>\n",
       "      <td>Encephalitis caused by Toxoplasma gondii is th...</td>\n",
       "      <td>None</td>\n",
       "      <td>2009/08/27</td>\n",
       "      <td>2019/10/27</td>\n",
       "      <td>2009</td>\n",
       "      <td>eng</td>\n",
       "      <td>Nogui, FL | Mattas, S | Turcato Júnior, G | Le...</td>\n",
       "      <td>Journal Article | Research Support, Non-U.S. G...</td>\n",
       "    </tr>\n",
       "    <tr>\n",
       "      <th>18703054</th>\n",
       "      <td>Neospora caninum: detection in wild rabbits an...</td>\n",
       "      <td>United States</td>\n",
       "      <td>Neospora caninum is an important pathogen of c...</td>\n",
       "      <td>2008/07/30</td>\n",
       "      <td>2008/10/24</td>\n",
       "      <td>2022/04/08</td>\n",
       "      <td>2008</td>\n",
       "      <td>eng</td>\n",
       "      <td>Hughes, JM | Thomasson, D | Craig, PS | Georgi...</td>\n",
       "      <td>Journal Article | Research Support, Non-U.S. G...</td>\n",
       "    </tr>\n",
       "    <tr>\n",
       "      <th>29469258</th>\n",
       "      <td>[Investigation on &lt;i&gt;Toxoplasma gondii&lt;/i&gt; inf...</td>\n",
       "      <td>China</td>\n",
       "      <td>To investigate the prevalence of &lt;i&gt;Toxoplasma...</td>\n",
       "      <td>None</td>\n",
       "      <td>2018/07/12</td>\n",
       "      <td>2018/12/02</td>\n",
       "      <td>2016</td>\n",
       "      <td>chi</td>\n",
       "      <td>Yun, F | Hui-Fang, L | Min-Yuan, S</td>\n",
       "      <td>Journal Article</td>\n",
       "    </tr>\n",
       "  </tbody>\n",
       "</table>\n",
       "</div>"
      ],
      "text/plain": [
       "                                                      Title Journal Country  \\\n",
       "22946380  Granulomatous meningoencephalitis due to toxop...   United States   \n",
       "12197139  Development and evaluation of an enzyme-linked...   United States   \n",
       "19578625  Neurotoxoplasmosis diagnosis for HIV-1 patient...          Brazil   \n",
       "18703054  Neospora caninum: detection in wild rabbits an...   United States   \n",
       "29469258  [Investigation on <i>Toxoplasma gondii</i> inf...           China   \n",
       "\n",
       "                                                   Abstract ArticleDate  \\\n",
       "22946380  This report describes toxoplasmosis infection ...        None   \n",
       "12197139  Cats are pivotal in the transmission of Toxopl...        None   \n",
       "19578625  Encephalitis caused by Toxoplasma gondii is th...        None   \n",
       "18703054  Neospora caninum is an important pathogen of c...  2008/07/30   \n",
       "29469258  To investigate the prevalence of <i>Toxoplasma...        None   \n",
       "\n",
       "         CompletedDate RevisedDate PublicationYear Language  \\\n",
       "22946380    2012/09/25  2012/09/05            2011      eng   \n",
       "12197139    2002/09/17  2006/11/15            2002      eng   \n",
       "19578625    2009/08/27  2019/10/27            2009      eng   \n",
       "18703054    2008/10/24  2022/04/08            2008      eng   \n",
       "29469258    2018/07/12  2018/12/02            2016      chi   \n",
       "\n",
       "                                                 AuthorList  \\\n",
       "22946380  Antoniassi, NA | Boabaid, FM | Souza, RL | Nak...   \n",
       "12197139  Huang, X | Xuan, X | Kimbita, EN | Battur, B |...   \n",
       "19578625  Nogui, FL | Mattas, S | Turcato Júnior, G | Le...   \n",
       "18703054  Hughes, JM | Thomasson, D | Craig, PS | Georgi...   \n",
       "29469258                 Yun, F | Hui-Fang, L | Min-Yuan, S   \n",
       "\n",
       "                                        PublicationTypeList  \n",
       "22946380                     Case Reports | Journal Article  \n",
       "12197139  Comparative Study | Journal Article | Research...  \n",
       "19578625  Journal Article | Research Support, Non-U.S. G...  \n",
       "18703054  Journal Article | Research Support, Non-U.S. G...  \n",
       "29469258                                    Journal Article  "
      ]
     },
     "execution_count": 64,
     "metadata": {},
     "output_type": "execute_result"
    }
   ],
   "source": [
    "id_article_df = pd.DataFrame.from_dict(id_article, orient = \"index\")\n",
    "id_article_df.head()"
   ]
  },
  {
   "attachments": {},
   "cell_type": "markdown",
   "metadata": {},
   "source": [
    "## Abstract Text Cleaning"
   ]
  },
  {
   "cell_type": "code",
   "execution_count": 66,
   "metadata": {},
   "outputs": [],
   "source": [
    "import re "
   ]
  },
  {
   "cell_type": "code",
   "execution_count": 65,
   "metadata": {},
   "outputs": [],
   "source": [
    "# Copy abstract to new column\n",
    "id_article_df['PreprocessedAbstract'] = id_article_df['Abstract']"
   ]
  },
  {
   "attachments": {},
   "cell_type": "markdown",
   "metadata": {},
   "source": [
    "Convert all None elements to wmpty strings (to be able to use re functions)"
   ]
  },
  {
   "cell_type": "code",
   "execution_count": 71,
   "metadata": {},
   "outputs": [],
   "source": [
    "id_article_df['PreprocessedAbstract'] = id_article_df['PreprocessedAbstract'].fillna('')"
   ]
  },
  {
   "attachments": {},
   "cell_type": "markdown",
   "metadata": {},
   "source": [
    "Remove Puntuaction"
   ]
  },
  {
   "cell_type": "code",
   "execution_count": 79,
   "metadata": {},
   "outputs": [],
   "source": [
    "def remove_punctuation(text):\n",
    "    return re.sub('[^\\w\\s]', '', text)\n",
    "id_article_df['PreprocessedAbstract'] = id_article_df['PreprocessedAbstract'].map(remove_punctuation)"
   ]
  },
  {
   "attachments": {},
   "cell_type": "markdown",
   "metadata": {},
   "source": [
    "Lower the text"
   ]
  },
  {
   "cell_type": "code",
   "execution_count": 81,
   "metadata": {},
   "outputs": [],
   "source": [
    "def to_lower(text):\n",
    "    return text.lower()\n",
    "id_article_df['PreprocessedAbstract'] = id_article_df['PreprocessedAbstract'].map(to_lower)"
   ]
  },
  {
   "cell_type": "code",
   "execution_count": 82,
   "metadata": {},
   "outputs": [
    {
     "data": {
      "text/plain": [
       "'apicomplexans are successful parasites responsible for severe human diseases including malaria toxoplasmosis and cryptosporidiosis for many years it has been discussed whether these parasites are in possession of peroxisomes highly variable eukaryotic organelles usually involved in fatty acid degradation and cellular detoxification conflicting experimental data has been published with the age of genomics ever more high quality apicomplexan genomes have become available that now allow a new assessment of the dispute here we provide bioinformatic evidence for the presence of peroxisomes in toxoplasma gondii and other coccidians for these organisms we have identified a complete set of peroxins probably responsible for peroxisome biogenesis division and protein import moreover via a global screening for peroxisomal targeting signals we were able to show that a complete set of fatty acid βoxidation enzymes is equipped with either pts1 or pts2 sequences most likely mediating transport of these factors to putative peroxisomes in all investigated coccidia our results further imply a life cycle stagespecific presence of peroxisomes in t gondii and suggest several independent losses of peroxisomes during the evolution of apicomplexan parasites'"
      ]
     },
     "execution_count": 82,
     "metadata": {},
     "output_type": "execute_result"
    }
   ],
   "source": [
    "id_article_df['PreprocessedAbstract'][100]"
   ]
  },
  {
   "attachments": {},
   "cell_type": "markdown",
   "metadata": {},
   "source": [
    "## Convert Authors and PublicationTypeList in lists"
   ]
  },
  {
   "cell_type": "code",
   "execution_count": 83,
   "metadata": {},
   "outputs": [],
   "source": [
    "# Definizione della funzione per trasformare una stringa in una lista di stringhe utilizzando il separatore '|'\n",
    "def string_to_list(text):\n",
    "    return text.split('|')\n",
    "\n",
    "# Applicazione della funzione alla colonna 'my_column' tramite apply()\n",
    "id_article_df['AuthorList'] = id_article_df['AuthorList'].fillna('')\n",
    "id_article_df['AuthorList'] = id_article_df['AuthorList'].apply(string_to_list)\n",
    "\n",
    "id_article_df['PublicationTypeList'] = id_article_df['PublicationTypeList'].fillna('')\n",
    "id_article_df['PublicationTypeList'] = id_article_df['PublicationTypeList'].apply(string_to_list)"
   ]
  },
  {
   "cell_type": "code",
   "execution_count": 84,
   "metadata": {},
   "outputs": [
    {
     "data": {
      "text/html": [
       "<div>\n",
       "<style scoped>\n",
       "    .dataframe tbody tr th:only-of-type {\n",
       "        vertical-align: middle;\n",
       "    }\n",
       "\n",
       "    .dataframe tbody tr th {\n",
       "        vertical-align: top;\n",
       "    }\n",
       "\n",
       "    .dataframe thead th {\n",
       "        text-align: right;\n",
       "    }\n",
       "</style>\n",
       "<table border=\"1\" class=\"dataframe\">\n",
       "  <thead>\n",
       "    <tr style=\"text-align: right;\">\n",
       "      <th></th>\n",
       "      <th>Title</th>\n",
       "      <th>Journal Country</th>\n",
       "      <th>Abstract</th>\n",
       "      <th>ArticleDate</th>\n",
       "      <th>CompletedDate</th>\n",
       "      <th>RevisedDate</th>\n",
       "      <th>PublicationYear</th>\n",
       "      <th>Language</th>\n",
       "      <th>AuthorList</th>\n",
       "      <th>PublicationTypeList</th>\n",
       "      <th>PreprocessedAbstract</th>\n",
       "    </tr>\n",
       "  </thead>\n",
       "  <tbody>\n",
       "    <tr>\n",
       "      <th>22946380</th>\n",
       "      <td>Granulomatous meningoencephalitis due to toxop...</td>\n",
       "      <td>United States</td>\n",
       "      <td>This report describes toxoplasmosis infection ...</td>\n",
       "      <td>None</td>\n",
       "      <td>2012/09/25</td>\n",
       "      <td>2012/09/05</td>\n",
       "      <td>2011</td>\n",
       "      <td>eng</td>\n",
       "      <td>[Antoniassi, NA ,  Boabaid, FM ,  Souza, RL , ...</td>\n",
       "      <td>[Case Reports ,  Journal Article]</td>\n",
       "      <td>this report describes toxoplasmosis infection ...</td>\n",
       "    </tr>\n",
       "    <tr>\n",
       "      <th>12197139</th>\n",
       "      <td>Development and evaluation of an enzyme-linked...</td>\n",
       "      <td>United States</td>\n",
       "      <td>Cats are pivotal in the transmission of Toxopl...</td>\n",
       "      <td>None</td>\n",
       "      <td>2002/09/17</td>\n",
       "      <td>2006/11/15</td>\n",
       "      <td>2002</td>\n",
       "      <td>eng</td>\n",
       "      <td>[Huang, X ,  Xuan, X ,  Kimbita, EN ,  Battur,...</td>\n",
       "      <td>[Comparative Study ,  Journal Article ,  Resea...</td>\n",
       "      <td>cats are pivotal in the transmission of toxopl...</td>\n",
       "    </tr>\n",
       "    <tr>\n",
       "      <th>19578625</th>\n",
       "      <td>Neurotoxoplasmosis diagnosis for HIV-1 patient...</td>\n",
       "      <td>Brazil</td>\n",
       "      <td>Encephalitis caused by Toxoplasma gondii is th...</td>\n",
       "      <td>None</td>\n",
       "      <td>2009/08/27</td>\n",
       "      <td>2019/10/27</td>\n",
       "      <td>2009</td>\n",
       "      <td>eng</td>\n",
       "      <td>[Nogui, FL ,  Mattas, S ,  Turcato Júnior, G ,...</td>\n",
       "      <td>[Journal Article ,  Research Support, Non-U.S....</td>\n",
       "      <td>encephalitis caused by toxoplasma gondii is th...</td>\n",
       "    </tr>\n",
       "    <tr>\n",
       "      <th>18703054</th>\n",
       "      <td>Neospora caninum: detection in wild rabbits an...</td>\n",
       "      <td>United States</td>\n",
       "      <td>Neospora caninum is an important pathogen of c...</td>\n",
       "      <td>2008/07/30</td>\n",
       "      <td>2008/10/24</td>\n",
       "      <td>2022/04/08</td>\n",
       "      <td>2008</td>\n",
       "      <td>eng</td>\n",
       "      <td>[Hughes, JM ,  Thomasson, D ,  Craig, PS ,  Ge...</td>\n",
       "      <td>[Journal Article ,  Research Support, Non-U.S....</td>\n",
       "      <td>neospora caninum is an important pathogen of c...</td>\n",
       "    </tr>\n",
       "    <tr>\n",
       "      <th>29469258</th>\n",
       "      <td>[Investigation on &lt;i&gt;Toxoplasma gondii&lt;/i&gt; inf...</td>\n",
       "      <td>China</td>\n",
       "      <td>To investigate the prevalence of &lt;i&gt;Toxoplasma...</td>\n",
       "      <td>None</td>\n",
       "      <td>2018/07/12</td>\n",
       "      <td>2018/12/02</td>\n",
       "      <td>2016</td>\n",
       "      <td>chi</td>\n",
       "      <td>[Yun, F ,  Hui-Fang, L ,  Min-Yuan, S]</td>\n",
       "      <td>[Journal Article]</td>\n",
       "      <td>to investigate the prevalence of itoxoplasma g...</td>\n",
       "    </tr>\n",
       "  </tbody>\n",
       "</table>\n",
       "</div>"
      ],
      "text/plain": [
       "                                                      Title Journal Country  \\\n",
       "22946380  Granulomatous meningoencephalitis due to toxop...   United States   \n",
       "12197139  Development and evaluation of an enzyme-linked...   United States   \n",
       "19578625  Neurotoxoplasmosis diagnosis for HIV-1 patient...          Brazil   \n",
       "18703054  Neospora caninum: detection in wild rabbits an...   United States   \n",
       "29469258  [Investigation on <i>Toxoplasma gondii</i> inf...           China   \n",
       "\n",
       "                                                   Abstract ArticleDate  \\\n",
       "22946380  This report describes toxoplasmosis infection ...        None   \n",
       "12197139  Cats are pivotal in the transmission of Toxopl...        None   \n",
       "19578625  Encephalitis caused by Toxoplasma gondii is th...        None   \n",
       "18703054  Neospora caninum is an important pathogen of c...  2008/07/30   \n",
       "29469258  To investigate the prevalence of <i>Toxoplasma...        None   \n",
       "\n",
       "         CompletedDate RevisedDate PublicationYear Language  \\\n",
       "22946380    2012/09/25  2012/09/05            2011      eng   \n",
       "12197139    2002/09/17  2006/11/15            2002      eng   \n",
       "19578625    2009/08/27  2019/10/27            2009      eng   \n",
       "18703054    2008/10/24  2022/04/08            2008      eng   \n",
       "29469258    2018/07/12  2018/12/02            2016      chi   \n",
       "\n",
       "                                                 AuthorList  \\\n",
       "22946380  [Antoniassi, NA ,  Boabaid, FM ,  Souza, RL , ...   \n",
       "12197139  [Huang, X ,  Xuan, X ,  Kimbita, EN ,  Battur,...   \n",
       "19578625  [Nogui, FL ,  Mattas, S ,  Turcato Júnior, G ,...   \n",
       "18703054  [Hughes, JM ,  Thomasson, D ,  Craig, PS ,  Ge...   \n",
       "29469258             [Yun, F ,  Hui-Fang, L ,  Min-Yuan, S]   \n",
       "\n",
       "                                        PublicationTypeList  \\\n",
       "22946380                  [Case Reports ,  Journal Article]   \n",
       "12197139  [Comparative Study ,  Journal Article ,  Resea...   \n",
       "19578625  [Journal Article ,  Research Support, Non-U.S....   \n",
       "18703054  [Journal Article ,  Research Support, Non-U.S....   \n",
       "29469258                                  [Journal Article]   \n",
       "\n",
       "                                       PreprocessedAbstract  \n",
       "22946380  this report describes toxoplasmosis infection ...  \n",
       "12197139  cats are pivotal in the transmission of toxopl...  \n",
       "19578625  encephalitis caused by toxoplasma gondii is th...  \n",
       "18703054  neospora caninum is an important pathogen of c...  \n",
       "29469258  to investigate the prevalence of itoxoplasma g...  "
      ]
     },
     "execution_count": 84,
     "metadata": {},
     "output_type": "execute_result"
    }
   ],
   "source": [
    "id_article_df.head()"
   ]
  },
  {
   "attachments": {},
   "cell_type": "markdown",
   "metadata": {},
   "source": [
    "## Save the dataset"
   ]
  },
  {
   "cell_type": "code",
   "execution_count": 85,
   "metadata": {},
   "outputs": [],
   "source": [
    "id_article_df.to_csv(\"Data/toxoplasma_gondii_pubmed.csv\", index_label = \"pubmed_id\", encoding = 'utf-8')"
   ]
  },
  {
   "cell_type": "code",
   "execution_count": 89,
   "metadata": {},
   "outputs": [
    {
     "name": "stdout",
     "output_type": "stream",
     "text": [
      "Index(['Title', 'Journal Country', 'Abstract', 'ArticleDate', 'CompletedDate',\n",
      "       'RevisedDate', 'PublicationYear', 'Language', 'AuthorList',\n",
      "       'PublicationTypeList', 'PreprocessedAbstract'],\n",
      "      dtype='object')\n"
     ]
    }
   ],
   "source": [
    "print(id_article_df.columns)"
   ]
  }
 ],
 "metadata": {
  "kernelspec": {
   "display_name": "data-bio-lab",
   "language": "python",
   "name": "python3"
  },
  "language_info": {
   "codemirror_mode": {
    "name": "ipython",
    "version": 3
   },
   "file_extension": ".py",
   "mimetype": "text/x-python",
   "name": "python",
   "nbconvert_exporter": "python",
   "pygments_lexer": "ipython3",
   "version": "3.9.16"
  },
  "orig_nbformat": 4
 },
 "nbformat": 4,
 "nbformat_minor": 2
}
