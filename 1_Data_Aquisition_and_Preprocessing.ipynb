{
 "cells": [
  {
   "cell_type": "markdown",
   "metadata": {},
   "source": [
    "# Setup"
   ]
  },
  {
   "cell_type": "code",
   "execution_count": 16,
   "metadata": {},
   "outputs": [],
   "source": [
    "from Bio import Entrez\n",
    "import pandas as pd\n",
    "import json # for pretty printing"
   ]
  },
  {
   "cell_type": "code",
   "execution_count": 17,
   "metadata": {},
   "outputs": [],
   "source": [
    "Entrez.email = \"giorgiocoal@gmail.com\""
   ]
  },
  {
   "attachments": {},
   "cell_type": "markdown",
   "metadata": {},
   "source": [
    "# PubMed Articles IDs Search and Retrieval"
   ]
  },
  {
   "attachments": {},
   "cell_type": "markdown",
   "metadata": {},
   "source": [
    "## Batch Articles IDs Search per Data Range"
   ]
  },
  {
   "attachments": {},
   "cell_type": "markdown",
   "metadata": {},
   "source": [
    "For PubMed, ESearch can only retrieve the first 10,000 records matching the query. To obtain more than 10,000 PubMed records, consider using <EDirect> that contains additional logic to batch PubMed search results automatically so that an arbitrary number can be retrieved.\n",
    "\n",
    "To avoid the maximum number of articles retrieved limitation, i decided to search them in batches of maximum 9999 articles, using a date range as limiter."
   ]
  },
  {
   "attachments": {},
   "cell_type": "markdown",
   "metadata": {},
   "source": [
    "Fetching the most recent 9934 articles published from **2009** to **2023**:"
   ]
  },
  {
   "cell_type": "code",
   "execution_count": 18,
   "metadata": {},
   "outputs": [],
   "source": [
    "NUM_ARTICLES = 10000\n",
    "search_record = {}\n",
    "handle = Entrez.esearch(db = \"pubmed\", \n",
    "                        retmax = NUM_ARTICLES, \n",
    "                        retstart = 0, \n",
    "                        term = '((\"toxoplasma gondii\"[Title/Abstract]) AND (\"2009/01/01\"[Date - Publication] : \"2023/03/22\"[Date - Publication]))', \n",
    "                        idtype = \"acc\",\n",
    "                        retmode = \"xml\")\n",
    "search_record[\">2009\"] = Entrez.read(handle)\n",
    "handle.close()"
   ]
  },
  {
   "cell_type": "code",
   "execution_count": 19,
   "metadata": {},
   "outputs": [
    {
     "name": "stdout",
     "output_type": "stream",
     "text": [
      "dict_keys(['Count', 'RetMax', 'RetStart', 'IdList', 'TranslationSet', 'QueryTranslation', 'WarningList'])\n",
      "\"toxoplasma gondii\"[Title/Abstract] AND 2009/01/01:2023/03/22[Date - Publication]\n",
      "9935\n"
     ]
    }
   ],
   "source": [
    "print(search_record[\">2009\"].keys())\n",
    "print(search_record[\">2009\"][\"QueryTranslation\"])\n",
    "print(len(search_record[\">2009\"][\"IdList\"]))"
   ]
  },
  {
   "attachments": {},
   "cell_type": "markdown",
   "metadata": {},
   "source": [
    "Fetching older 7770 articles published **before 2009**:"
   ]
  },
  {
   "cell_type": "code",
   "execution_count": 20,
   "metadata": {},
   "outputs": [],
   "source": [
    "NUM_ARTICLES = 10000\n",
    "handle = Entrez.esearch(db = \"pubmed\", \n",
    "                        retmax = NUM_ARTICLES, \n",
    "                        retstart = 0, \n",
    "                        term = '((\"toxoplasma gondii\"[Title/Abstract]) AND (\"1900/01/01\"[Date - Publication] : \"2008/12/31\"[Date - Publication]))', \n",
    "                        idtype = \"acc\",\n",
    "                        retmode = \"xml\")\n",
    "search_record[\"<2009\"] = Entrez.read(handle)\n",
    "handle.close()"
   ]
  },
  {
   "cell_type": "code",
   "execution_count": 21,
   "metadata": {},
   "outputs": [
    {
     "name": "stdout",
     "output_type": "stream",
     "text": [
      "dict_keys(['Count', 'RetMax', 'RetStart', 'IdList', 'TranslationSet', 'QueryTranslation', 'WarningList'])\n",
      "{'PhraseIgnored': [], 'OutputMessage': ['Restrictions achieved. start and count adjusted to 0, 9999'], 'QuotedPhraseNotFound': []}\n",
      "7770\n"
     ]
    }
   ],
   "source": [
    "print(search_record[\"<2009\"].keys())\n",
    "print(search_record[\"<2009\"][\"WarningList\"])\n",
    "print(len(search_record[\"<2009\"][\"IdList\"]))"
   ]
  },
  {
   "attachments": {},
   "cell_type": "markdown",
   "metadata": {},
   "source": [
    "## Merging the batches and Remove Duplicates"
   ]
  },
  {
   "attachments": {},
   "cell_type": "markdown",
   "metadata": {},
   "source": [
    "Now I'll merge the IDs Batches obtaining a single list of 10000+ IDs."
   ]
  },
  {
   "cell_type": "code",
   "execution_count": 22,
   "metadata": {},
   "outputs": [],
   "source": [
    "search_record_full = list(search_record[\">2009\"][\"IdList\"]) + list(search_record[\"<2009\"][\"IdList\"])"
   ]
  },
  {
   "attachments": {},
   "cell_type": "markdown",
   "metadata": {},
   "source": [
    "Number of articles to fetch"
   ]
  },
  {
   "cell_type": "code",
   "execution_count": 23,
   "metadata": {},
   "outputs": [
    {
     "name": "stdout",
     "output_type": "stream",
     "text": [
      "17705\n",
      "17639\n"
     ]
    }
   ],
   "source": [
    "# Number of articles\n",
    "print(len(search_record_full))\n",
    "# Number of unique articles\n",
    "print(len(set(search_record_full)))"
   ]
  },
  {
   "attachments": {},
   "cell_type": "markdown",
   "metadata": {},
   "source": [
    "Removing the duplicates"
   ]
  },
  {
   "cell_type": "code",
   "execution_count": 24,
   "metadata": {},
   "outputs": [],
   "source": [
    "search_record_full = list(set(search_record_full))"
   ]
  },
  {
   "cell_type": "code",
   "execution_count": 25,
   "metadata": {},
   "outputs": [
    {
     "data": {
      "text/plain": [
       "17639"
      ]
     },
     "execution_count": 25,
     "metadata": {},
     "output_type": "execute_result"
    }
   ],
   "source": [
    "len(search_record_full)"
   ]
  },
  {
   "attachments": {},
   "cell_type": "markdown",
   "metadata": {},
   "source": [
    "# Fetch Bibliographic Information from retrieved IDs"
   ]
  },
  {
   "attachments": {},
   "cell_type": "markdown",
   "metadata": {},
   "source": [
    "Also `Entrez.efetch` has a maximum number of 'IDs' which can be retrieved, it is important to slice the list of IDs during fetching."
   ]
  },
  {
   "attachments": {},
   "cell_type": "markdown",
   "metadata": {},
   "source": [
    "Fetch detailed information about every article in the list"
   ]
  },
  {
   "cell_type": "code",
   "execution_count": 26,
   "metadata": {},
   "outputs": [],
   "source": [
    "# Retrieve only `top_n` most recent articles\n",
    "records = {}\n",
    "half = len(search_record_full) // 2\n",
    "handle = Entrez.efetch(db = \"pubmed\", \n",
    "                       # Convert list to string with comma as separator \n",
    "                       # to pass to Entrez.efetch\n",
    "                       id = ','.join(search_record_full[:half]),\n",
    "                       retmode = \"xml\")\n",
    "records['1stHalf'] = Entrez.read(handle)\n",
    "handle.close()\n",
    "handle = Entrez.efetch(db = \"pubmed\", \n",
    "                       # Convert list to string with comma as separator \n",
    "                       # to pass to Entrez.efetch\n",
    "                       id = ','.join(search_record_full[half:]),\n",
    "                       retmode = \"xml\")\n",
    "records['2ndHalf'] = Entrez.read(handle)\n",
    "handle.close()"
   ]
  },
  {
   "attachments": {},
   "cell_type": "markdown",
   "metadata": {},
   "source": [
    "Record dictionary details:"
   ]
  },
  {
   "cell_type": "code",
   "execution_count": 27,
   "metadata": {},
   "outputs": [
    {
     "name": "stdout",
     "output_type": "stream",
     "text": [
      "dict_keys(['PubmedArticle', 'PubmedBookArticle'])\n",
      "8814\n",
      "<class 'list'>\n",
      "<class 'Bio.Entrez.Parser.DictionaryElement'>\n",
      "8816\n",
      "<class 'list'>\n",
      "<class 'Bio.Entrez.Parser.DictionaryElement'>\n"
     ]
    }
   ],
   "source": [
    "# First Half\n",
    "print(records['1stHalf'].keys())\n",
    "\n",
    "print(len(records['1stHalf'][\"PubmedArticle\"]))\n",
    "print(type(records['1stHalf'][\"PubmedArticle\"]))\n",
    "print(type(records['1stHalf'][\"PubmedArticle\"][1]))\n",
    "\n",
    "# Second Half\n",
    "print(len(records['2ndHalf'][\"PubmedArticle\"]))\n",
    "print(type(records['2ndHalf'][\"PubmedArticle\"]))\n",
    "print(type(records['2ndHalf'][\"PubmedArticle\"][1]))"
   ]
  },
  {
   "attachments": {},
   "cell_type": "markdown",
   "metadata": {},
   "source": [
    "Merging the two records dictionaries in a single one:"
   ]
  },
  {
   "cell_type": "code",
   "execution_count": 28,
   "metadata": {},
   "outputs": [],
   "source": [
    "full_records = {}\n",
    "full_records['PubmedArticle'] = records['1stHalf'][\"PubmedArticle\"] + records['2ndHalf'][\"PubmedArticle\"]\n",
    "full_records['PubmedBookArticle'] = records['1stHalf'][\"PubmedBookArticle\"] + records['2ndHalf'][\"PubmedBookArticle\"]"
   ]
  },
  {
   "cell_type": "code",
   "execution_count": 29,
   "metadata": {},
   "outputs": [
    {
     "name": "stdout",
     "output_type": "stream",
     "text": [
      "17630\n",
      "<class 'list'>\n",
      "<class 'Bio.Entrez.Parser.DictionaryElement'>\n"
     ]
    }
   ],
   "source": [
    "print(len(full_records[\"PubmedArticle\"]))\n",
    "print(type(full_records[\"PubmedArticle\"]))\n",
    "print(type(full_records[\"PubmedArticle\"][1]))"
   ]
  },
  {
   "cell_type": "code",
   "execution_count": 53,
   "metadata": {},
   "outputs": [
    {
     "name": "stdout",
     "output_type": "stream",
     "text": [
      "{\n",
      "  \"MedlineCitation\": {\n",
      "    \"OtherID\": [],\n",
      "    \"OtherAbstract\": [],\n",
      "    \"KeywordList\": [],\n",
      "    \"GeneralNote\": [],\n",
      "    \"CitationSubset\": [\n",
      "      \"IM\"\n",
      "    ],\n",
      "    \"SpaceFlightMission\": [],\n",
      "    \"PMID\": \"12197139\",\n",
      "    \"DateCompleted\": {\n",
      "      \"Year\": \"2002\",\n",
      "      \"Month\": \"09\",\n",
      "      \"Day\": \"17\"\n",
      "    },\n",
      "    \"DateRevised\": {\n",
      "      \"Year\": \"2006\",\n",
      "      \"Month\": \"11\",\n",
      "      \"Day\": \"15\"\n",
      "    },\n",
      "    \"Article\": {\n",
      "      \"ArticleDate\": [],\n",
      "      \"ELocationID\": [],\n",
      "      \"Language\": [\n",
      "        \"eng\"\n",
      "      ],\n",
      "      \"Journal\": {\n",
      "        \"ISSN\": \"0022-3395\",\n",
      "        \"JournalIssue\": {\n",
      "          \"Volume\": \"88\",\n",
      "          \"Issue\": \"4\",\n",
      "          \"PubDate\": {\n",
      "            \"Year\": \"2002\",\n",
      "            \"Month\": \"Aug\"\n",
      "          }\n",
      "        },\n",
      "        \"Title\": \"The Journal of parasitology\",\n",
      "        \"ISOAbbreviation\": \"J Parasitol\"\n",
      "      },\n",
      "      \"ArticleTitle\": \"Development and evaluation of an enzyme-linked immunosorbent assay with recombinant SAG2 for diagnosis of Toxoplasma gondii infection in cats.\",\n",
      "      \"Pagination\": {\n",
      "        \"StartPage\": \"804\",\n",
      "        \"EndPage\": \"807\",\n",
      "        \"MedlinePgn\": \"804-7\"\n",
      "      },\n",
      "      \"Abstract\": {\n",
      "        \"AbstractText\": [\n",
      "          \"Cats are pivotal in the transmission of Toxoplasma gondii. To develop a sensitive and specific serodiagnostic method for feline toxoplasmosis, surface antigen 2 (SAG2) of T. gondii was expressed in Escherichia coli and its diagnostic potential evaluated in an enzyme-linked immunosorbent assay (ELISA). The ELISA with recombinant SAG2 (rSAG2) was able to differentiate very clearly between sera from cats experimentally infected with T. gondii and sera from normal cats. Serum samples collected from domestic cats in Japan were investigated by the ELISA, and the results were compared with those of a commercially available latex agglutination test (LAT) kit. Of the 192 samples screened, 42 (21.9%) were positive by ELISA. Among the 42 ELISA-positive samples, 39 were positive by LAT. There was a significant correlation between ELISA and LAT titers. All the 150 ELISA-negative samples were negative by LAT. These results indicate that the ELISA with rSAG2 expressed in E. coli should be a useful method for detection of T. gondii infection in cats.\"\n",
      "        ]\n",
      "      },\n",
      "      \"AuthorList\": [\n",
      "        {\n",
      "          \"AffiliationInfo\": [\n",
      "            {\n",
      "              \"Identifier\": [],\n",
      "              \"Affiliation\": \"National Research Center for Protozoan Diseases, Obihiro University of Agriculture and Veterinary Medicine, Inada-cho, Obihiro, Hokkaido 080-8555, Japan.\"\n",
      "            }\n",
      "          ],\n",
      "          \"Identifier\": [],\n",
      "          \"LastName\": \"Huang\",\n",
      "          \"ForeName\": \"X\",\n",
      "          \"Initials\": \"X\"\n",
      "        },\n",
      "        {\n",
      "          \"AffiliationInfo\": [],\n",
      "          \"Identifier\": [],\n",
      "          \"LastName\": \"Xuan\",\n",
      "          \"ForeName\": \"X\",\n",
      "          \"Initials\": \"X\"\n",
      "        },\n",
      "        {\n",
      "          \"AffiliationInfo\": [],\n",
      "          \"Identifier\": [],\n",
      "          \"LastName\": \"Kimbita\",\n",
      "          \"ForeName\": \"E N\",\n",
      "          \"Initials\": \"EN\"\n",
      "        },\n",
      "        {\n",
      "          \"AffiliationInfo\": [],\n",
      "          \"Identifier\": [],\n",
      "          \"LastName\": \"Battur\",\n",
      "          \"ForeName\": \"B\",\n",
      "          \"Initials\": \"B\"\n",
      "        },\n",
      "        {\n",
      "          \"AffiliationInfo\": [],\n",
      "          \"Identifier\": [],\n",
      "          \"LastName\": \"Miyazawa\",\n",
      "          \"ForeName\": \"T\",\n",
      "          \"Initials\": \"T\"\n",
      "        },\n",
      "        {\n",
      "          \"AffiliationInfo\": [],\n",
      "          \"Identifier\": [],\n",
      "          \"LastName\": \"Fukumoto\",\n",
      "          \"ForeName\": \"S\",\n",
      "          \"Initials\": \"S\"\n",
      "        },\n",
      "        {\n",
      "          \"AffiliationInfo\": [],\n",
      "          \"Identifier\": [],\n",
      "          \"LastName\": \"Mishima\",\n",
      "          \"ForeName\": \"M\",\n",
      "          \"Initials\": \"M\"\n",
      "        },\n",
      "        {\n",
      "          \"AffiliationInfo\": [],\n",
      "          \"Identifier\": [],\n",
      "          \"LastName\": \"Makala\",\n",
      "          \"ForeName\": \"L H\",\n",
      "          \"Initials\": \"LH\"\n",
      "        },\n",
      "        {\n",
      "          \"AffiliationInfo\": [],\n",
      "          \"Identifier\": [],\n",
      "          \"LastName\": \"Suzuki\",\n",
      "          \"ForeName\": \"H\",\n",
      "          \"Initials\": \"H\"\n",
      "        },\n",
      "        {\n",
      "          \"AffiliationInfo\": [],\n",
      "          \"Identifier\": [],\n",
      "          \"LastName\": \"Sugimoto\",\n",
      "          \"ForeName\": \"C\",\n",
      "          \"Initials\": \"C\"\n",
      "        },\n",
      "        {\n",
      "          \"AffiliationInfo\": [],\n",
      "          \"Identifier\": [],\n",
      "          \"LastName\": \"Nagasawa\",\n",
      "          \"ForeName\": \"H\",\n",
      "          \"Initials\": \"H\"\n",
      "        },\n",
      "        {\n",
      "          \"AffiliationInfo\": [],\n",
      "          \"Identifier\": [],\n",
      "          \"LastName\": \"Fujisaki\",\n",
      "          \"ForeName\": \"K\",\n",
      "          \"Initials\": \"K\"\n",
      "        },\n",
      "        {\n",
      "          \"AffiliationInfo\": [],\n",
      "          \"Identifier\": [],\n",
      "          \"LastName\": \"Mikami\",\n",
      "          \"ForeName\": \"T\",\n",
      "          \"Initials\": \"T\"\n",
      "        },\n",
      "        {\n",
      "          \"AffiliationInfo\": [],\n",
      "          \"Identifier\": [],\n",
      "          \"LastName\": \"Igarashi\",\n",
      "          \"ForeName\": \"I\",\n",
      "          \"Initials\": \"I\"\n",
      "        }\n",
      "      ],\n",
      "      \"PublicationTypeList\": [\n",
      "        \"Comparative Study\",\n",
      "        \"Journal Article\",\n",
      "        \"Research Support, Non-U.S. Gov't\"\n",
      "      ]\n",
      "    },\n",
      "    \"MedlineJournalInfo\": {\n",
      "      \"Country\": \"United States\",\n",
      "      \"MedlineTA\": \"J Parasitol\",\n",
      "      \"NlmUniqueID\": \"7803124\",\n",
      "      \"ISSNLinking\": \"0022-3395\"\n",
      "    },\n",
      "    \"ChemicalList\": [\n",
      "      {\n",
      "        \"RegistryNumber\": \"0\",\n",
      "        \"NameOfSubstance\": \"Antibodies, Protozoan\"\n",
      "      },\n",
      "      {\n",
      "        \"RegistryNumber\": \"0\",\n",
      "        \"NameOfSubstance\": \"Antigens, Protozoan\"\n",
      "      },\n",
      "      {\n",
      "        \"RegistryNumber\": \"0\",\n",
      "        \"NameOfSubstance\": \"Antigens, Surface\"\n",
      "      },\n",
      "      {\n",
      "        \"RegistryNumber\": \"0\",\n",
      "        \"NameOfSubstance\": \"Protozoan Proteins\"\n",
      "      },\n",
      "      {\n",
      "        \"RegistryNumber\": \"0\",\n",
      "        \"NameOfSubstance\": \"Recombinant Proteins\"\n",
      "      },\n",
      "      {\n",
      "        \"RegistryNumber\": \"133134-61-9\",\n",
      "        \"NameOfSubstance\": \"surface antigen P22, Toxoplasma\"\n",
      "      }\n",
      "    ],\n",
      "    \"MeshHeadingList\": [\n",
      "      {\n",
      "        \"QualifierName\": [],\n",
      "        \"DescriptorName\": \"Animals\"\n",
      "      },\n",
      "      {\n",
      "        \"QualifierName\": [\n",
      "          \"blood\"\n",
      "        ],\n",
      "        \"DescriptorName\": \"Antibodies, Protozoan\"\n",
      "      },\n",
      "      {\n",
      "        \"QualifierName\": [],\n",
      "        \"DescriptorName\": \"Antigens, Protozoan\"\n",
      "      },\n",
      "      {\n",
      "        \"QualifierName\": [],\n",
      "        \"DescriptorName\": \"Antigens, Surface\"\n",
      "      },\n",
      "      {\n",
      "        \"QualifierName\": [\n",
      "          \"diagnosis\"\n",
      "        ],\n",
      "        \"DescriptorName\": \"Cat Diseases\"\n",
      "      },\n",
      "      {\n",
      "        \"QualifierName\": [],\n",
      "        \"DescriptorName\": \"Cats\"\n",
      "      },\n",
      "      {\n",
      "        \"QualifierName\": [\n",
      "          \"methods\"\n",
      "        ],\n",
      "        \"DescriptorName\": \"Enzyme-Linked Immunosorbent Assay\"\n",
      "      },\n",
      "      {\n",
      "        \"QualifierName\": [\n",
      "          \"genetics\"\n",
      "        ],\n",
      "        \"DescriptorName\": \"Escherichia coli\"\n",
      "      },\n",
      "      {\n",
      "        \"QualifierName\": [],\n",
      "        \"DescriptorName\": \"Genetic Vectors\"\n",
      "      },\n",
      "      {\n",
      "        \"QualifierName\": [],\n",
      "        \"DescriptorName\": \"Protozoan Proteins\"\n",
      "      },\n",
      "      {\n",
      "        \"QualifierName\": [],\n",
      "        \"DescriptorName\": \"Recombinant Proteins\"\n",
      "      },\n",
      "      {\n",
      "        \"QualifierName\": [\n",
      "          \"immunology\",\n",
      "          \"isolation & purification\"\n",
      "        ],\n",
      "        \"DescriptorName\": \"Toxoplasma\"\n",
      "      },\n",
      "      {\n",
      "        \"QualifierName\": [\n",
      "          \"blood\",\n",
      "          \"diagnosis\"\n",
      "        ],\n",
      "        \"DescriptorName\": \"Toxoplasmosis, Animal\"\n",
      "      }\n",
      "    ]\n",
      "  },\n",
      "  \"PubmedData\": {\n",
      "    \"ReferenceList\": [],\n",
      "    \"History\": [\n",
      "      {\n",
      "        \"Year\": \"2002\",\n",
      "        \"Month\": \"8\",\n",
      "        \"Day\": \"29\",\n",
      "        \"Hour\": \"10\",\n",
      "        \"Minute\": \"0\"\n",
      "      },\n",
      "      {\n",
      "        \"Year\": \"2002\",\n",
      "        \"Month\": \"9\",\n",
      "        \"Day\": \"18\",\n",
      "        \"Hour\": \"10\",\n",
      "        \"Minute\": \"1\"\n",
      "      },\n",
      "      {\n",
      "        \"Year\": \"2002\",\n",
      "        \"Month\": \"8\",\n",
      "        \"Day\": \"29\",\n",
      "        \"Hour\": \"10\",\n",
      "        \"Minute\": \"0\"\n",
      "      }\n",
      "    ],\n",
      "    \"PublicationStatus\": \"ppublish\",\n",
      "    \"ArticleIdList\": [\n",
      "      \"12197139\",\n",
      "      \"10.1645/0022-3395(2002)088[0804:DAEOAE]2.0.CO;2\"\n",
      "    ]\n",
      "  }\n",
      "}\n"
     ]
    }
   ],
   "source": [
    "print(json.dumps(full_records['PubmedArticle'][1], indent = 2))"
   ]
  },
  {
   "attachments": {},
   "cell_type": "markdown",
   "metadata": {},
   "source": [
    "# Parsing retrieved articles and build a dataframe"
   ]
  },
  {
   "attachments": {},
   "cell_type": "markdown",
   "metadata": {},
   "source": [
    "## JSON Parsing"
   ]
  },
  {
   "attachments": {},
   "cell_type": "markdown",
   "metadata": {},
   "source": [
    "We create multiple dataframes containing information about:\n",
    "-  Retrieved Article\n",
    "-  ~~Journal that published the articles~~"
   ]
  },
  {
   "attachments": {},
   "cell_type": "markdown",
   "metadata": {},
   "source": [
    "First of all we'll extract some basic information about the retrieved articles:\n",
    "- PubMed ID\n",
    "- Title\n",
    "- Abstract Text\n",
    "- Dates\n",
    "  - Completed Date\n",
    "  - Revised Date\n",
    "  - Published Year\n",
    "- Language\n",
    "- Authors List\n",
    "- PublicationTypeList\n",
    "- Journal Country"
   ]
  },
  {
   "cell_type": "code",
   "execution_count": null,
   "metadata": {},
   "outputs": [],
   "source": [
    "# Create empty dictionary to store pubmed_id its info\n",
    "id_article = {}\n",
    "counter = 0\n",
    "for record in full_records['PubmedArticle']:\n",
    "    print(counter)\n",
    "    counter += 1\n",
    "    # Root element to access all data about a given article\n",
    "    root = record['MedlineCitation']['Article']\n",
    "    # Get pubmed id to be used for dictionary key access\n",
    "    uid = record['MedlineCitation']['PMID']\n",
    "    print(uid)\n",
    "    # Create empty dictionary for each given article id\n",
    "    id_article[uid] = {}\n",
    "    # Title\n",
    "    try:\n",
    "        id_article[uid]['Title'] = root['ArticleTitle']\n",
    "    except:\n",
    "        id_article[uid]['Title'] = None\n",
    "    # Country\n",
    "    try:\n",
    "        id_article[uid]['Journal Country'] = record['MedlineCitation']['MedlineJournalInfo']['Country']\n",
    "    except:\n",
    "        id_article[uid]['Journal Country'] = None\n",
    "    # Abstract text different sections like results, conclusions, \n",
    "    # that are in separate elements of the list are joined together\n",
    "    try:\n",
    "        id_article[uid]['Abstract'] = \"\\t\".join(root['Abstract']['AbstractText']) if 'Abstract' in root.keys() else None\n",
    "    except:\n",
    "        id_article[uid]['Abstract'] = None\n",
    "    # Date (submission?) as MM/DD/YYYY\n",
    "    try: \n",
    "        id_article[uid]['ArticleDate'] = \"/\".join(root['ArticleDate'][0].values()) if len(root['ArticleDate']) != 0 else None \n",
    "    except:\n",
    "        id_article[uid]['ArticleDate'] = None\n",
    "    # Completed date as MM/DD/YYYY\n",
    "    try: \n",
    "        id_article[uid]['CompletedDate'] = \"/\".join(record['MedlineCitation']['DateCompleted'].values()) if len(record['MedlineCitation']['DateCompleted']) != 0 else None\n",
    "    except:\n",
    "        id_article[uid]['CompletedDate'] = None\n",
    "    # Revised date as MM/DD/YYYY\n",
    "    try:\n",
    "        id_article[uid]['RevisedDate'] = \"/\".join(record['MedlineCitation']['DateRevised'].values()) if len(record['MedlineCitation']['DateRevised']) != 0 else None\n",
    "    except:\n",
    "        id_article[uid]['RevisedDate'] = None\n",
    "    # Publication year\n",
    "    try:\n",
    "        id_article[uid]['PublicationYear'] = record['MedlineCitation']['Article']['Journal']['JournalIssue']['PubDate'][\"Year\"]\n",
    "    except:\n",
    "        id_article[uid]['PublicationYear'] = None\n",
    "    # Language(s)\n",
    "    try:\n",
    "        id_article[uid]['Language'] = \" | \".join(root['Language'])\n",
    "    except:\n",
    "        id_article[uid]['Language'] = None\n",
    "    # Authors list\n",
    "    try:\n",
    "        id_article[uid][\"AuthorList\"] = \" | \".join([i['LastName'] + \", \" + i['Initials']\\\n",
    "                                                for i in root['AuthorList'] if 'LastName' and 'Initials' in i.keys()]) if 'AuthorList' in root.keys() else None\n",
    "    except:\n",
    "        id_article[uid][\"AuthorList\"] = None\n",
    "    # List of publication types\n",
    "    try: \n",
    "        id_article[uid]['PublicationTypeList'] = \" | \".join(root['PublicationTypeList'])\n",
    "    except:\n",
    "        id_article[uid]['PublicationTypeList'] = None\n",
    "        "
   ]
  },
  {
   "attachments": {},
   "cell_type": "markdown",
   "metadata": {},
   "source": [
    "Example of the parsed data:"
   ]
  },
  {
   "cell_type": "code",
   "execution_count": 36,
   "metadata": {},
   "outputs": [
    {
     "name": "stdout",
     "output_type": "stream",
     "text": [
      "{\n",
      "  \"Title\": \"[Acute acquired toxoplasmosis presenting as polymyositis and chorioretinitis in a Japanese male].\",\n",
      "  \"Journal Country\": \"Japan\",\n",
      "  \"Abstract\": \"A 55-year-old Japanese male who developed acute polymyositis and chorioretinitis due to toxoplasmosis is described. The patients was well until one month prior to the present admission, when he had an onset of painful swelling of lymphnodes in the posterior cervical region, proximal muscle weakness, myalgia and a partial defect in the visual field of the right eye. He admitted that he had had a chance to eat half-cooked mutton while he had visited Saudi Arabia 40 days before. He was unable to go up and down the stairs at the peak of the illness. Serum CPK was 2050 u/l (N = 5-50) on January 11, 1989. These symptoms improved spontaneously except for the visual field defect. He was admitted to our hospital on January 31, 1989. On admission, neurological examination was unremarkable except for retinal exudate in the right eye which appeared consistent with the clinical diagnosis of toxoplasma chorioretinitis. Serum CPK was 103 u/l, and EMG showed myogenic changes. The IgM-immunofluorescent (IFA) anti-Toxoplasma gondii antibody titer was elevated to 640, and IgG-immunofluorescent antibody to 20480 after IgM-IFA. These clinical and serological findings indicate acute and recent Toxoplasma gondii infection. It appeared likely that Toxoplasma gondii directly caused acute myositis and chorioretinitis. Clinical manifestations of toxoplasma myositis may mimic those of idiopathic polymyositis, however, the clinical course of the former is usually self-limited probably because of generation of antibodies which will inhibit the growth of the organism.(ABSTRACT TRUNCATED AT 250 WORDS)\",\n",
      "  \"ArticleDate\": null,\n",
      "  \"CompletedDate\": \"1990/02/09\",\n",
      "  \"RevisedDate\": \"2006/11/15\",\n",
      "  \"PublicationYear\": \"1989\",\n",
      "  \"Language\": \"jpn\",\n",
      "  \"AuthorList\": \"Yamada, T | Nakagawa, Y | Komiya, T | Sakuma, A | Mizuno, Y\",\n",
      "  \"PublicationTypeList\": \"Case Reports | English Abstract | Journal Article\"\n",
      "}\n"
     ]
    }
   ],
   "source": [
    "print(json.dumps(id_article[\"2605834\"], indent = 2))"
   ]
  },
  {
   "attachments": {},
   "cell_type": "markdown",
   "metadata": {},
   "source": [
    "Create the dataframe"
   ]
  },
  {
   "cell_type": "code",
   "execution_count": 32,
   "metadata": {},
   "outputs": [
    {
     "data": {
      "text/html": [
       "<div>\n",
       "<style scoped>\n",
       "    .dataframe tbody tr th:only-of-type {\n",
       "        vertical-align: middle;\n",
       "    }\n",
       "\n",
       "    .dataframe tbody tr th {\n",
       "        vertical-align: top;\n",
       "    }\n",
       "\n",
       "    .dataframe thead th {\n",
       "        text-align: right;\n",
       "    }\n",
       "</style>\n",
       "<table border=\"1\" class=\"dataframe\">\n",
       "  <thead>\n",
       "    <tr style=\"text-align: right;\">\n",
       "      <th></th>\n",
       "      <th>Title</th>\n",
       "      <th>Journal Country</th>\n",
       "      <th>Abstract</th>\n",
       "      <th>ArticleDate</th>\n",
       "      <th>CompletedDate</th>\n",
       "      <th>RevisedDate</th>\n",
       "      <th>PublicationYear</th>\n",
       "      <th>Language</th>\n",
       "      <th>AuthorList</th>\n",
       "      <th>PublicationTypeList</th>\n",
       "    </tr>\n",
       "  </thead>\n",
       "  <tbody>\n",
       "    <tr>\n",
       "      <th>2605834</th>\n",
       "      <td>[Acute acquired toxoplasmosis presenting as po...</td>\n",
       "      <td>Japan</td>\n",
       "      <td>A 55-year-old Japanese male who developed acut...</td>\n",
       "      <td>None</td>\n",
       "      <td>1990/02/09</td>\n",
       "      <td>2006/11/15</td>\n",
       "      <td>1989</td>\n",
       "      <td>jpn</td>\n",
       "      <td>Yamada, T | Nakagawa, Y | Komiya, T | Sakuma, ...</td>\n",
       "      <td>Case Reports | English Abstract | Journal Article</td>\n",
       "    </tr>\n",
       "    <tr>\n",
       "      <th>23391103</th>\n",
       "      <td>Experimental vaginal infection of goats with s...</td>\n",
       "      <td>United States</td>\n",
       "      <td>The objective was to characterize the transmis...</td>\n",
       "      <td>2013/02/07</td>\n",
       "      <td>2013/10/22</td>\n",
       "      <td>2013/08/05</td>\n",
       "      <td>2013</td>\n",
       "      <td>eng</td>\n",
       "      <td>Wanderley, FS | Porto, WJ | Câmara, DR | da Cr...</td>\n",
       "      <td>Journal Article | Randomized Controlled Trial ...</td>\n",
       "    </tr>\n",
       "    <tr>\n",
       "      <th>23559345</th>\n",
       "      <td>Prevalence and risk factors for Toxoplasma gon...</td>\n",
       "      <td>Brazil</td>\n",
       "      <td>To determine the prevalence of immunoglobulin ...</td>\n",
       "      <td>None</td>\n",
       "      <td>2013/10/22</td>\n",
       "      <td>2019/03/25</td>\n",
       "      <td>2013</td>\n",
       "      <td>eng</td>\n",
       "      <td>Moura, FL | Amendoeira, MR | Bastos, OM | Matt...</td>\n",
       "      <td>Journal Article | Research Support, Non-U.S. G...</td>\n",
       "    </tr>\n",
       "    <tr>\n",
       "      <th>12685205</th>\n",
       "      <td>Fine needle aspiration cytologic diagnosis of ...</td>\n",
       "      <td>Switzerland</td>\n",
       "      <td>Fine needle aspiration (FNA) cytologic diagnos...</td>\n",
       "      <td>None</td>\n",
       "      <td>2003/05/30</td>\n",
       "      <td>2018/02/17</td>\n",
       "      <td>2003</td>\n",
       "      <td>eng</td>\n",
       "      <td>Pathan, SK | Francis, IM | Das, DK | Mallik, M...</td>\n",
       "      <td>Case Reports | Journal Article</td>\n",
       "    </tr>\n",
       "    <tr>\n",
       "      <th>28887145</th>\n",
       "      <td>Role of an estradiol regulatory factor-hydroxy...</td>\n",
       "      <td>England</td>\n",
       "      <td>Toxoplasma gondii is an apicomplexan parasite ...</td>\n",
       "      <td>2017/09/05</td>\n",
       "      <td>2017/11/13</td>\n",
       "      <td>2017/12/08</td>\n",
       "      <td>2017</td>\n",
       "      <td>eng</td>\n",
       "      <td>Zhang, X | Liu, J | Li, M | Fu, Y | Zhang, T |...</td>\n",
       "      <td>Journal Article | Research Support, Non-U.S. G...</td>\n",
       "    </tr>\n",
       "  </tbody>\n",
       "</table>\n",
       "</div>"
      ],
      "text/plain": [
       "                                                      Title Journal Country  \\\n",
       "2605834   [Acute acquired toxoplasmosis presenting as po...           Japan   \n",
       "23391103  Experimental vaginal infection of goats with s...   United States   \n",
       "23559345  Prevalence and risk factors for Toxoplasma gon...          Brazil   \n",
       "12685205  Fine needle aspiration cytologic diagnosis of ...     Switzerland   \n",
       "28887145  Role of an estradiol regulatory factor-hydroxy...         England   \n",
       "\n",
       "                                                   Abstract ArticleDate  \\\n",
       "2605834   A 55-year-old Japanese male who developed acut...        None   \n",
       "23391103  The objective was to characterize the transmis...  2013/02/07   \n",
       "23559345  To determine the prevalence of immunoglobulin ...        None   \n",
       "12685205  Fine needle aspiration (FNA) cytologic diagnos...        None   \n",
       "28887145  Toxoplasma gondii is an apicomplexan parasite ...  2017/09/05   \n",
       "\n",
       "         CompletedDate RevisedDate PublicationYear Language  \\\n",
       "2605834     1990/02/09  2006/11/15            1989      jpn   \n",
       "23391103    2013/10/22  2013/08/05            2013      eng   \n",
       "23559345    2013/10/22  2019/03/25            2013      eng   \n",
       "12685205    2003/05/30  2018/02/17            2003      eng   \n",
       "28887145    2017/11/13  2017/12/08            2017      eng   \n",
       "\n",
       "                                                 AuthorList  \\\n",
       "2605834   Yamada, T | Nakagawa, Y | Komiya, T | Sakuma, ...   \n",
       "23391103  Wanderley, FS | Porto, WJ | Câmara, DR | da Cr...   \n",
       "23559345  Moura, FL | Amendoeira, MR | Bastos, OM | Matt...   \n",
       "12685205  Pathan, SK | Francis, IM | Das, DK | Mallik, M...   \n",
       "28887145  Zhang, X | Liu, J | Li, M | Fu, Y | Zhang, T |...   \n",
       "\n",
       "                                        PublicationTypeList  \n",
       "2605834   Case Reports | English Abstract | Journal Article  \n",
       "23391103  Journal Article | Randomized Controlled Trial ...  \n",
       "23559345  Journal Article | Research Support, Non-U.S. G...  \n",
       "12685205                     Case Reports | Journal Article  \n",
       "28887145  Journal Article | Research Support, Non-U.S. G...  "
      ]
     },
     "execution_count": 32,
     "metadata": {},
     "output_type": "execute_result"
    }
   ],
   "source": [
    "id_article_df = pd.DataFrame.from_dict(id_article, orient = \"index\")\n",
    "id_article_df.head()"
   ]
  },
  {
   "attachments": {},
   "cell_type": "markdown",
   "metadata": {},
   "source": [
    "## Abstract Text Cleaning"
   ]
  },
  {
   "cell_type": "code",
   "execution_count": 33,
   "metadata": {},
   "outputs": [],
   "source": [
    "import re "
   ]
  },
  {
   "cell_type": "code",
   "execution_count": 43,
   "metadata": {},
   "outputs": [],
   "source": [
    "# Copy abstract to new column\n",
    "id_article_df['PreprocessedAbstract'] = id_article_df['Abstract']"
   ]
  },
  {
   "attachments": {},
   "cell_type": "markdown",
   "metadata": {},
   "source": [
    "Convert all None elements to empty strings (to be able to use re functions)"
   ]
  },
  {
   "cell_type": "code",
   "execution_count": 44,
   "metadata": {},
   "outputs": [],
   "source": [
    "id_article_df['PreprocessedAbstract'] = id_article_df['PreprocessedAbstract'].fillna('')"
   ]
  },
  {
   "attachments": {},
   "cell_type": "markdown",
   "metadata": {},
   "source": [
    "Remove `<i>` and `</i>` tags from Title and Abstract"
   ]
  },
  {
   "cell_type": "code",
   "execution_count": 45,
   "metadata": {},
   "outputs": [],
   "source": [
    "def remove_tags(text):\n",
    "    return text.replace('<i>', '').replace('<i>', '')\n",
    "\n",
    "id_article_df['Title'] = id_article_df['Title'].map(remove_tags)\n",
    "id_article_df['PreprocessedAbstract'] = id_article_df['PreprocessedAbstract'].map(remove_tags)"
   ]
  },
  {
   "attachments": {},
   "cell_type": "markdown",
   "metadata": {},
   "source": [
    "Remove Puntuaction"
   ]
  },
  {
   "cell_type": "code",
   "execution_count": 46,
   "metadata": {},
   "outputs": [],
   "source": [
    "def remove_punctuation(text):\n",
    "    return re.sub('[^\\w\\s]', '', text)\n",
    "id_article_df['PreprocessedAbstract'] = id_article_df['PreprocessedAbstract'].map(remove_punctuation)"
   ]
  },
  {
   "attachments": {},
   "cell_type": "markdown",
   "metadata": {},
   "source": [
    "Lower the text"
   ]
  },
  {
   "cell_type": "code",
   "execution_count": 47,
   "metadata": {},
   "outputs": [],
   "source": [
    "def to_lower(text):\n",
    "    return text.lower()\n",
    "id_article_df['PreprocessedAbstract'] = id_article_df['PreprocessedAbstract'].map(to_lower)"
   ]
  },
  {
   "cell_type": "code",
   "execution_count": 48,
   "metadata": {},
   "outputs": [
    {
     "data": {
      "text/plain": [
       "'a light and transmission electron microscopic study was performed in skeletal muscles from mice experimentally infected with toxoplasma gondii parasite cysts were not observed capillary endothelial cytoplasm abnormalities included proliferation of organelles decrease of pynocytic vesicles degenerative changes and necrosis in some capillaries the lumen was reduced or absent pericytes also were altered in all animals n  13 the basement membrane was normal the cellular infiltrate consisted of macrophages lymphocytes mastocytes and eosinophils the alterations observed in muscle microvasculature in absence of toxoplasma gondii cysts could be due to a hostimmune response to the parasite'"
      ]
     },
     "execution_count": 48,
     "metadata": {},
     "output_type": "execute_result"
    }
   ],
   "source": [
    "id_article_df['PreprocessedAbstract'][100]"
   ]
  },
  {
   "attachments": {},
   "cell_type": "markdown",
   "metadata": {},
   "source": [
    "Remove squared brackets from Title"
   ]
  },
  {
   "cell_type": "code",
   "execution_count": 49,
   "metadata": {},
   "outputs": [],
   "source": [
    "def remove_squared_brackets(text):\n",
    "    return text.replace('[', '').replace(']', '')\n",
    "\n",
    "id_article_df['Title'] = id_article_df['Title'].map(remove_squared_brackets)"
   ]
  },
  {
   "cell_type": "code",
   "execution_count": 50,
   "metadata": {},
   "outputs": [
    {
     "data": {
      "text/html": [
       "<div>\n",
       "<style scoped>\n",
       "    .dataframe tbody tr th:only-of-type {\n",
       "        vertical-align: middle;\n",
       "    }\n",
       "\n",
       "    .dataframe tbody tr th {\n",
       "        vertical-align: top;\n",
       "    }\n",
       "\n",
       "    .dataframe thead th {\n",
       "        text-align: right;\n",
       "    }\n",
       "</style>\n",
       "<table border=\"1\" class=\"dataframe\">\n",
       "  <thead>\n",
       "    <tr style=\"text-align: right;\">\n",
       "      <th></th>\n",
       "      <th>Title</th>\n",
       "      <th>Journal Country</th>\n",
       "      <th>Abstract</th>\n",
       "      <th>ArticleDate</th>\n",
       "      <th>CompletedDate</th>\n",
       "      <th>RevisedDate</th>\n",
       "      <th>PublicationYear</th>\n",
       "      <th>Language</th>\n",
       "      <th>AuthorList</th>\n",
       "      <th>PublicationTypeList</th>\n",
       "      <th>PreprocessedAbstract</th>\n",
       "    </tr>\n",
       "  </thead>\n",
       "  <tbody>\n",
       "    <tr>\n",
       "      <th>2605834</th>\n",
       "      <td>Acute acquired toxoplasmosis presenting as pol...</td>\n",
       "      <td>Japan</td>\n",
       "      <td>A 55-year-old Japanese male who developed acut...</td>\n",
       "      <td>None</td>\n",
       "      <td>1990/02/09</td>\n",
       "      <td>2006/11/15</td>\n",
       "      <td>1989</td>\n",
       "      <td>jpn</td>\n",
       "      <td>Yamada, T | Nakagawa, Y | Komiya, T | Sakuma, ...</td>\n",
       "      <td>Case Reports | English Abstract | Journal Article</td>\n",
       "      <td>a 55yearold japanese male who developed acute ...</td>\n",
       "    </tr>\n",
       "    <tr>\n",
       "      <th>23391103</th>\n",
       "      <td>Experimental vaginal infection of goats with s...</td>\n",
       "      <td>United States</td>\n",
       "      <td>The objective was to characterize the transmis...</td>\n",
       "      <td>2013/02/07</td>\n",
       "      <td>2013/10/22</td>\n",
       "      <td>2013/08/05</td>\n",
       "      <td>2013</td>\n",
       "      <td>eng</td>\n",
       "      <td>Wanderley, FS | Porto, WJ | Câmara, DR | da Cr...</td>\n",
       "      <td>Journal Article | Randomized Controlled Trial ...</td>\n",
       "      <td>the objective was to characterize the transmis...</td>\n",
       "    </tr>\n",
       "    <tr>\n",
       "      <th>23559345</th>\n",
       "      <td>Prevalence and risk factors for Toxoplasma gon...</td>\n",
       "      <td>Brazil</td>\n",
       "      <td>To determine the prevalence of immunoglobulin ...</td>\n",
       "      <td>None</td>\n",
       "      <td>2013/10/22</td>\n",
       "      <td>2019/03/25</td>\n",
       "      <td>2013</td>\n",
       "      <td>eng</td>\n",
       "      <td>Moura, FL | Amendoeira, MR | Bastos, OM | Matt...</td>\n",
       "      <td>Journal Article | Research Support, Non-U.S. G...</td>\n",
       "      <td>to determine the prevalence of immunoglobulin ...</td>\n",
       "    </tr>\n",
       "    <tr>\n",
       "      <th>12685205</th>\n",
       "      <td>Fine needle aspiration cytologic diagnosis of ...</td>\n",
       "      <td>Switzerland</td>\n",
       "      <td>Fine needle aspiration (FNA) cytologic diagnos...</td>\n",
       "      <td>None</td>\n",
       "      <td>2003/05/30</td>\n",
       "      <td>2018/02/17</td>\n",
       "      <td>2003</td>\n",
       "      <td>eng</td>\n",
       "      <td>Pathan, SK | Francis, IM | Das, DK | Mallik, M...</td>\n",
       "      <td>Case Reports | Journal Article</td>\n",
       "      <td>fine needle aspiration fna cytologic diagnosis...</td>\n",
       "    </tr>\n",
       "    <tr>\n",
       "      <th>28887145</th>\n",
       "      <td>Role of an estradiol regulatory factor-hydroxy...</td>\n",
       "      <td>England</td>\n",
       "      <td>Toxoplasma gondii is an apicomplexan parasite ...</td>\n",
       "      <td>2017/09/05</td>\n",
       "      <td>2017/11/13</td>\n",
       "      <td>2017/12/08</td>\n",
       "      <td>2017</td>\n",
       "      <td>eng</td>\n",
       "      <td>Zhang, X | Liu, J | Li, M | Fu, Y | Zhang, T |...</td>\n",
       "      <td>Journal Article | Research Support, Non-U.S. G...</td>\n",
       "      <td>toxoplasma gondii is an apicomplexan parasite ...</td>\n",
       "    </tr>\n",
       "  </tbody>\n",
       "</table>\n",
       "</div>"
      ],
      "text/plain": [
       "                                                      Title Journal Country  \\\n",
       "2605834   Acute acquired toxoplasmosis presenting as pol...           Japan   \n",
       "23391103  Experimental vaginal infection of goats with s...   United States   \n",
       "23559345  Prevalence and risk factors for Toxoplasma gon...          Brazil   \n",
       "12685205  Fine needle aspiration cytologic diagnosis of ...     Switzerland   \n",
       "28887145  Role of an estradiol regulatory factor-hydroxy...         England   \n",
       "\n",
       "                                                   Abstract ArticleDate  \\\n",
       "2605834   A 55-year-old Japanese male who developed acut...        None   \n",
       "23391103  The objective was to characterize the transmis...  2013/02/07   \n",
       "23559345  To determine the prevalence of immunoglobulin ...        None   \n",
       "12685205  Fine needle aspiration (FNA) cytologic diagnos...        None   \n",
       "28887145  Toxoplasma gondii is an apicomplexan parasite ...  2017/09/05   \n",
       "\n",
       "         CompletedDate RevisedDate PublicationYear Language  \\\n",
       "2605834     1990/02/09  2006/11/15            1989      jpn   \n",
       "23391103    2013/10/22  2013/08/05            2013      eng   \n",
       "23559345    2013/10/22  2019/03/25            2013      eng   \n",
       "12685205    2003/05/30  2018/02/17            2003      eng   \n",
       "28887145    2017/11/13  2017/12/08            2017      eng   \n",
       "\n",
       "                                                 AuthorList  \\\n",
       "2605834   Yamada, T | Nakagawa, Y | Komiya, T | Sakuma, ...   \n",
       "23391103  Wanderley, FS | Porto, WJ | Câmara, DR | da Cr...   \n",
       "23559345  Moura, FL | Amendoeira, MR | Bastos, OM | Matt...   \n",
       "12685205  Pathan, SK | Francis, IM | Das, DK | Mallik, M...   \n",
       "28887145  Zhang, X | Liu, J | Li, M | Fu, Y | Zhang, T |...   \n",
       "\n",
       "                                        PublicationTypeList  \\\n",
       "2605834   Case Reports | English Abstract | Journal Article   \n",
       "23391103  Journal Article | Randomized Controlled Trial ...   \n",
       "23559345  Journal Article | Research Support, Non-U.S. G...   \n",
       "12685205                     Case Reports | Journal Article   \n",
       "28887145  Journal Article | Research Support, Non-U.S. G...   \n",
       "\n",
       "                                       PreprocessedAbstract  \n",
       "2605834   a 55yearold japanese male who developed acute ...  \n",
       "23391103  the objective was to characterize the transmis...  \n",
       "23559345  to determine the prevalence of immunoglobulin ...  \n",
       "12685205  fine needle aspiration fna cytologic diagnosis...  \n",
       "28887145  toxoplasma gondii is an apicomplexan parasite ...  "
      ]
     },
     "execution_count": 50,
     "metadata": {},
     "output_type": "execute_result"
    }
   ],
   "source": [
    "id_article_df.head()"
   ]
  },
  {
   "attachments": {},
   "cell_type": "markdown",
   "metadata": {},
   "source": [
    "## Convert Authors and PublicationTypeList in lists"
   ]
  },
  {
   "cell_type": "code",
   "execution_count": 51,
   "metadata": {},
   "outputs": [],
   "source": [
    "# Definizione della funzione per trasformare una stringa in una lista di stringhe utilizzando il separatore '|'\n",
    "def string_to_list(text):\n",
    "    return text.split('|')\n",
    "\n",
    "# Applicazione della funzione alla colonna 'my_column' tramite apply()\n",
    "id_article_df['AuthorList'] = id_article_df['AuthorList'].fillna('')\n",
    "id_article_df['AuthorList'] = id_article_df['AuthorList'].apply(string_to_list)\n",
    "\n",
    "id_article_df['PublicationTypeList'] = id_article_df['PublicationTypeList'].fillna('')\n",
    "id_article_df['PublicationTypeList'] = id_article_df['PublicationTypeList'].apply(string_to_list)"
   ]
  },
  {
   "cell_type": "code",
   "execution_count": 52,
   "metadata": {},
   "outputs": [
    {
     "data": {
      "text/html": [
       "<div>\n",
       "<style scoped>\n",
       "    .dataframe tbody tr th:only-of-type {\n",
       "        vertical-align: middle;\n",
       "    }\n",
       "\n",
       "    .dataframe tbody tr th {\n",
       "        vertical-align: top;\n",
       "    }\n",
       "\n",
       "    .dataframe thead th {\n",
       "        text-align: right;\n",
       "    }\n",
       "</style>\n",
       "<table border=\"1\" class=\"dataframe\">\n",
       "  <thead>\n",
       "    <tr style=\"text-align: right;\">\n",
       "      <th></th>\n",
       "      <th>Title</th>\n",
       "      <th>Journal Country</th>\n",
       "      <th>Abstract</th>\n",
       "      <th>ArticleDate</th>\n",
       "      <th>CompletedDate</th>\n",
       "      <th>RevisedDate</th>\n",
       "      <th>PublicationYear</th>\n",
       "      <th>Language</th>\n",
       "      <th>AuthorList</th>\n",
       "      <th>PublicationTypeList</th>\n",
       "      <th>PreprocessedAbstract</th>\n",
       "    </tr>\n",
       "  </thead>\n",
       "  <tbody>\n",
       "    <tr>\n",
       "      <th>2605834</th>\n",
       "      <td>Acute acquired toxoplasmosis presenting as pol...</td>\n",
       "      <td>Japan</td>\n",
       "      <td>A 55-year-old Japanese male who developed acut...</td>\n",
       "      <td>None</td>\n",
       "      <td>1990/02/09</td>\n",
       "      <td>2006/11/15</td>\n",
       "      <td>1989</td>\n",
       "      <td>jpn</td>\n",
       "      <td>[Yamada, T ,  Nakagawa, Y ,  Komiya, T ,  Saku...</td>\n",
       "      <td>[Case Reports ,  English Abstract ,  Journal A...</td>\n",
       "      <td>a 55yearold japanese male who developed acute ...</td>\n",
       "    </tr>\n",
       "    <tr>\n",
       "      <th>23391103</th>\n",
       "      <td>Experimental vaginal infection of goats with s...</td>\n",
       "      <td>United States</td>\n",
       "      <td>The objective was to characterize the transmis...</td>\n",
       "      <td>2013/02/07</td>\n",
       "      <td>2013/10/22</td>\n",
       "      <td>2013/08/05</td>\n",
       "      <td>2013</td>\n",
       "      <td>eng</td>\n",
       "      <td>[Wanderley, FS ,  Porto, WJ ,  Câmara, DR ,  d...</td>\n",
       "      <td>[Journal Article ,  Randomized Controlled Tria...</td>\n",
       "      <td>the objective was to characterize the transmis...</td>\n",
       "    </tr>\n",
       "    <tr>\n",
       "      <th>23559345</th>\n",
       "      <td>Prevalence and risk factors for Toxoplasma gon...</td>\n",
       "      <td>Brazil</td>\n",
       "      <td>To determine the prevalence of immunoglobulin ...</td>\n",
       "      <td>None</td>\n",
       "      <td>2013/10/22</td>\n",
       "      <td>2019/03/25</td>\n",
       "      <td>2013</td>\n",
       "      <td>eng</td>\n",
       "      <td>[Moura, FL ,  Amendoeira, MR ,  Bastos, OM ,  ...</td>\n",
       "      <td>[Journal Article ,  Research Support, Non-U.S....</td>\n",
       "      <td>to determine the prevalence of immunoglobulin ...</td>\n",
       "    </tr>\n",
       "    <tr>\n",
       "      <th>12685205</th>\n",
       "      <td>Fine needle aspiration cytologic diagnosis of ...</td>\n",
       "      <td>Switzerland</td>\n",
       "      <td>Fine needle aspiration (FNA) cytologic diagnos...</td>\n",
       "      <td>None</td>\n",
       "      <td>2003/05/30</td>\n",
       "      <td>2018/02/17</td>\n",
       "      <td>2003</td>\n",
       "      <td>eng</td>\n",
       "      <td>[Pathan, SK ,  Francis, IM ,  Das, DK ,  Malli...</td>\n",
       "      <td>[Case Reports ,  Journal Article]</td>\n",
       "      <td>fine needle aspiration fna cytologic diagnosis...</td>\n",
       "    </tr>\n",
       "    <tr>\n",
       "      <th>28887145</th>\n",
       "      <td>Role of an estradiol regulatory factor-hydroxy...</td>\n",
       "      <td>England</td>\n",
       "      <td>Toxoplasma gondii is an apicomplexan parasite ...</td>\n",
       "      <td>2017/09/05</td>\n",
       "      <td>2017/11/13</td>\n",
       "      <td>2017/12/08</td>\n",
       "      <td>2017</td>\n",
       "      <td>eng</td>\n",
       "      <td>[Zhang, X ,  Liu, J ,  Li, M ,  Fu, Y ,  Zhang...</td>\n",
       "      <td>[Journal Article ,  Research Support, Non-U.S....</td>\n",
       "      <td>toxoplasma gondii is an apicomplexan parasite ...</td>\n",
       "    </tr>\n",
       "  </tbody>\n",
       "</table>\n",
       "</div>"
      ],
      "text/plain": [
       "                                                      Title Journal Country  \\\n",
       "2605834   Acute acquired toxoplasmosis presenting as pol...           Japan   \n",
       "23391103  Experimental vaginal infection of goats with s...   United States   \n",
       "23559345  Prevalence and risk factors for Toxoplasma gon...          Brazil   \n",
       "12685205  Fine needle aspiration cytologic diagnosis of ...     Switzerland   \n",
       "28887145  Role of an estradiol regulatory factor-hydroxy...         England   \n",
       "\n",
       "                                                   Abstract ArticleDate  \\\n",
       "2605834   A 55-year-old Japanese male who developed acut...        None   \n",
       "23391103  The objective was to characterize the transmis...  2013/02/07   \n",
       "23559345  To determine the prevalence of immunoglobulin ...        None   \n",
       "12685205  Fine needle aspiration (FNA) cytologic diagnos...        None   \n",
       "28887145  Toxoplasma gondii is an apicomplexan parasite ...  2017/09/05   \n",
       "\n",
       "         CompletedDate RevisedDate PublicationYear Language  \\\n",
       "2605834     1990/02/09  2006/11/15            1989      jpn   \n",
       "23391103    2013/10/22  2013/08/05            2013      eng   \n",
       "23559345    2013/10/22  2019/03/25            2013      eng   \n",
       "12685205    2003/05/30  2018/02/17            2003      eng   \n",
       "28887145    2017/11/13  2017/12/08            2017      eng   \n",
       "\n",
       "                                                 AuthorList  \\\n",
       "2605834   [Yamada, T ,  Nakagawa, Y ,  Komiya, T ,  Saku...   \n",
       "23391103  [Wanderley, FS ,  Porto, WJ ,  Câmara, DR ,  d...   \n",
       "23559345  [Moura, FL ,  Amendoeira, MR ,  Bastos, OM ,  ...   \n",
       "12685205  [Pathan, SK ,  Francis, IM ,  Das, DK ,  Malli...   \n",
       "28887145  [Zhang, X ,  Liu, J ,  Li, M ,  Fu, Y ,  Zhang...   \n",
       "\n",
       "                                        PublicationTypeList  \\\n",
       "2605834   [Case Reports ,  English Abstract ,  Journal A...   \n",
       "23391103  [Journal Article ,  Randomized Controlled Tria...   \n",
       "23559345  [Journal Article ,  Research Support, Non-U.S....   \n",
       "12685205                  [Case Reports ,  Journal Article]   \n",
       "28887145  [Journal Article ,  Research Support, Non-U.S....   \n",
       "\n",
       "                                       PreprocessedAbstract  \n",
       "2605834   a 55yearold japanese male who developed acute ...  \n",
       "23391103  the objective was to characterize the transmis...  \n",
       "23559345  to determine the prevalence of immunoglobulin ...  \n",
       "12685205  fine needle aspiration fna cytologic diagnosis...  \n",
       "28887145  toxoplasma gondii is an apicomplexan parasite ...  "
      ]
     },
     "execution_count": 52,
     "metadata": {},
     "output_type": "execute_result"
    }
   ],
   "source": [
    "id_article_df.head()"
   ]
  },
  {
   "attachments": {},
   "cell_type": "markdown",
   "metadata": {},
   "source": [
    "## Save the dataset"
   ]
  },
  {
   "cell_type": "code",
   "execution_count": 53,
   "metadata": {},
   "outputs": [],
   "source": [
    "id_article_df.to_csv(\"Data/toxoplasma_gondii_pubmed.csv\", index_label = \"pubmed_id\", encoding = 'utf-8')"
   ]
  },
  {
   "cell_type": "code",
   "execution_count": 89,
   "metadata": {},
   "outputs": [
    {
     "name": "stdout",
     "output_type": "stream",
     "text": [
      "Index(['Title', 'Journal Country', 'Abstract', 'ArticleDate', 'CompletedDate',\n",
      "       'RevisedDate', 'PublicationYear', 'Language', 'AuthorList',\n",
      "       'PublicationTypeList', 'PreprocessedAbstract'],\n",
      "      dtype='object')\n"
     ]
    }
   ],
   "source": [
    "print(id_article_df.columns)"
   ]
  }
 ],
 "metadata": {
  "kernelspec": {
   "display_name": "data-bio-lab",
   "language": "python",
   "name": "python3"
  },
  "language_info": {
   "codemirror_mode": {
    "name": "ipython",
    "version": 3
   },
   "file_extension": ".py",
   "mimetype": "text/x-python",
   "name": "python",
   "nbconvert_exporter": "python",
   "pygments_lexer": "ipython3",
   "version": "3.9.16"
  },
  "orig_nbformat": 4
 },
 "nbformat": 4,
 "nbformat_minor": 2
}
